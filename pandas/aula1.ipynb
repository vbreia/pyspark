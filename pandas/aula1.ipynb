{
 "cells": [
  {
   "cell_type": "code",
   "execution_count": 19,
   "id": "f4cce87e",
   "metadata": {},
   "outputs": [],
   "source": [
    "import pandas as pd"
   ]
  },
  {
   "cell_type": "code",
   "execution_count": 20,
   "id": "92396852",
   "metadata": {},
   "outputs": [],
   "source": [
    "json_array = [\n",
    "    {'a': 1, 'b': 2},\n",
    "    {'a': 3, 'b': 4},\n",
    "    {'a': 5, 'b': 6}]"
   ]
  },
  {
   "cell_type": "code",
   "execution_count": 21,
   "id": "eeeb8a9b",
   "metadata": {},
   "outputs": [
    {
     "name": "stdout",
     "output_type": "stream",
     "text": [
      "   a  b\n",
      "0  1  2\n",
      "1  3  4\n",
      "2  5  6\n"
     ]
    }
   ],
   "source": [
    "df = pd.DataFrame(json_array)\n",
    "print(df)"
   ]
  },
  {
   "cell_type": "code",
   "execution_count": 22,
   "id": "ab13710d",
   "metadata": {},
   "outputs": [
    {
     "name": "stdout",
     "output_type": "stream",
     "text": [
      "   a  b\n",
      "0  1  2\n",
      "1  3  4\n",
      "2  5  6\n"
     ]
    }
   ],
   "source": [
    "import json\n",
    "\n",
    "json_array = '[ {\"a\":1,\"b\":2}, {\"a\":3,\"b\":4}, {\"a\":5,\"b\":6} ]'\n",
    "df2 = pd.DataFrame(json.loads(json_array))\n",
    "print(df2)"
   ]
  },
  {
   "cell_type": "code",
   "execution_count": 26,
   "id": "48294a3d",
   "metadata": {},
   "outputs": [],
   "source": [
    "df.to_csv('output.csv', index=False)"
   ]
  },
  {
   "cell_type": "code",
   "execution_count": 30,
   "id": "0eda73f9",
   "metadata": {},
   "outputs": [],
   "source": [
    "df.to_json('output.json', orient='records', indent=4)"
   ]
  }
 ],
 "metadata": {
  "kernelspec": {
   "display_name": "venv",
   "language": "python",
   "name": "python3"
  },
  "language_info": {
   "codemirror_mode": {
    "name": "ipython",
    "version": 3
   },
   "file_extension": ".py",
   "mimetype": "text/x-python",
   "name": "python",
   "nbconvert_exporter": "python",
   "pygments_lexer": "ipython3",
   "version": "3.12.3"
  }
 },
 "nbformat": 4,
 "nbformat_minor": 5
}
