{
 "cells": [
  {
   "cell_type": "markdown",
   "id": "c0df9c2c",
   "metadata": {},
   "source": [
    "## Obtendo conjunto de dados"
   ]
  },
  {
   "cell_type": "code",
   "execution_count": 1,
   "id": "cecfe37e",
   "metadata": {},
   "outputs": [],
   "source": [
    "import pandas as pd\n",
    "exemplo1 = pd.read_csv('output.csv', sep=',')"
   ]
  },
  {
   "cell_type": "code",
   "execution_count": 2,
   "id": "3e213400",
   "metadata": {},
   "outputs": [
    {
     "data": {
      "application/vnd.microsoft.datawrangler.viewer.v0+json": {
       "columns": [
        {
         "name": "index",
         "rawType": "int64",
         "type": "integer"
        },
        {
         "name": "a",
         "rawType": "int64",
         "type": "integer"
        },
        {
         "name": "b",
         "rawType": "int64",
         "type": "integer"
        }
       ],
       "conversionMethod": "pd.DataFrame",
       "ref": "0c8984dd-0fec-4814-b6b1-71f1168373d8",
       "rows": [
        [
         "0",
         "1",
         "2"
        ],
        [
         "1",
         "3",
         "4"
        ],
        [
         "2",
         "5",
         "6"
        ]
       ],
       "shape": {
        "columns": 2,
        "rows": 3
       }
      },
      "text/html": [
       "<div>\n",
       "<style scoped>\n",
       "    .dataframe tbody tr th:only-of-type {\n",
       "        vertical-align: middle;\n",
       "    }\n",
       "\n",
       "    .dataframe tbody tr th {\n",
       "        vertical-align: top;\n",
       "    }\n",
       "\n",
       "    .dataframe thead th {\n",
       "        text-align: right;\n",
       "    }\n",
       "</style>\n",
       "<table border=\"1\" class=\"dataframe\">\n",
       "  <thead>\n",
       "    <tr style=\"text-align: right;\">\n",
       "      <th></th>\n",
       "      <th>a</th>\n",
       "      <th>b</th>\n",
       "    </tr>\n",
       "  </thead>\n",
       "  <tbody>\n",
       "    <tr>\n",
       "      <th>0</th>\n",
       "      <td>1</td>\n",
       "      <td>2</td>\n",
       "    </tr>\n",
       "    <tr>\n",
       "      <th>1</th>\n",
       "      <td>3</td>\n",
       "      <td>4</td>\n",
       "    </tr>\n",
       "    <tr>\n",
       "      <th>2</th>\n",
       "      <td>5</td>\n",
       "      <td>6</td>\n",
       "    </tr>\n",
       "  </tbody>\n",
       "</table>\n",
       "</div>"
      ],
      "text/plain": [
       "   a  b\n",
       "0  1  2\n",
       "1  3  4\n",
       "2  5  6"
      ]
     },
     "execution_count": 2,
     "metadata": {},
     "output_type": "execute_result"
    }
   ],
   "source": [
    "exemplo1"
   ]
  },
  {
   "cell_type": "code",
   "execution_count": 3,
   "id": "aba9efe3",
   "metadata": {},
   "outputs": [],
   "source": [
    "!pip install -q scikit-learn\n",
    "from sklearn.datasets import load_iris"
   ]
  },
  {
   "cell_type": "code",
   "execution_count": 4,
   "id": "6425dc94",
   "metadata": {},
   "outputs": [],
   "source": [
    "data = load_iris()"
   ]
  },
  {
   "cell_type": "code",
   "execution_count": 5,
   "id": "1712ff03",
   "metadata": {},
   "outputs": [],
   "source": [
    "iris_df = pd.DataFrame(data.data, columns=data.feature_names)\n",
    "iris_df['encoded_target'] = data.target"
   ]
  },
  {
   "cell_type": "code",
   "execution_count": 6,
   "id": "2b76f49d",
   "metadata": {},
   "outputs": [
    {
     "data": {
      "application/vnd.microsoft.datawrangler.viewer.v0+json": {
       "columns": [
        {
         "name": "index",
         "rawType": "int64",
         "type": "integer"
        },
        {
         "name": "sepal length (cm)",
         "rawType": "float64",
         "type": "float"
        },
        {
         "name": "sepal width (cm)",
         "rawType": "float64",
         "type": "float"
        },
        {
         "name": "petal length (cm)",
         "rawType": "float64",
         "type": "float"
        },
        {
         "name": "petal width (cm)",
         "rawType": "float64",
         "type": "float"
        },
        {
         "name": "encoded_target",
         "rawType": "int64",
         "type": "integer"
        }
       ],
       "conversionMethod": "pd.DataFrame",
       "ref": "e22c53bd-c81c-4105-bcd5-3a6fc05b590b",
       "rows": [
        [
         "0",
         "5.1",
         "3.5",
         "1.4",
         "0.2",
         "0"
        ],
        [
         "1",
         "4.9",
         "3.0",
         "1.4",
         "0.2",
         "0"
        ],
        [
         "2",
         "4.7",
         "3.2",
         "1.3",
         "0.2",
         "0"
        ],
        [
         "3",
         "4.6",
         "3.1",
         "1.5",
         "0.2",
         "0"
        ],
        [
         "4",
         "5.0",
         "3.6",
         "1.4",
         "0.2",
         "0"
        ],
        [
         "5",
         "5.4",
         "3.9",
         "1.7",
         "0.4",
         "0"
        ],
        [
         "6",
         "4.6",
         "3.4",
         "1.4",
         "0.3",
         "0"
        ],
        [
         "7",
         "5.0",
         "3.4",
         "1.5",
         "0.2",
         "0"
        ],
        [
         "8",
         "4.4",
         "2.9",
         "1.4",
         "0.2",
         "0"
        ],
        [
         "9",
         "4.9",
         "3.1",
         "1.5",
         "0.1",
         "0"
        ],
        [
         "10",
         "5.4",
         "3.7",
         "1.5",
         "0.2",
         "0"
        ],
        [
         "11",
         "4.8",
         "3.4",
         "1.6",
         "0.2",
         "0"
        ],
        [
         "12",
         "4.8",
         "3.0",
         "1.4",
         "0.1",
         "0"
        ],
        [
         "13",
         "4.3",
         "3.0",
         "1.1",
         "0.1",
         "0"
        ],
        [
         "14",
         "5.8",
         "4.0",
         "1.2",
         "0.2",
         "0"
        ],
        [
         "15",
         "5.7",
         "4.4",
         "1.5",
         "0.4",
         "0"
        ],
        [
         "16",
         "5.4",
         "3.9",
         "1.3",
         "0.4",
         "0"
        ],
        [
         "17",
         "5.1",
         "3.5",
         "1.4",
         "0.3",
         "0"
        ],
        [
         "18",
         "5.7",
         "3.8",
         "1.7",
         "0.3",
         "0"
        ],
        [
         "19",
         "5.1",
         "3.8",
         "1.5",
         "0.3",
         "0"
        ],
        [
         "20",
         "5.4",
         "3.4",
         "1.7",
         "0.2",
         "0"
        ],
        [
         "21",
         "5.1",
         "3.7",
         "1.5",
         "0.4",
         "0"
        ],
        [
         "22",
         "4.6",
         "3.6",
         "1.0",
         "0.2",
         "0"
        ],
        [
         "23",
         "5.1",
         "3.3",
         "1.7",
         "0.5",
         "0"
        ],
        [
         "24",
         "4.8",
         "3.4",
         "1.9",
         "0.2",
         "0"
        ],
        [
         "25",
         "5.0",
         "3.0",
         "1.6",
         "0.2",
         "0"
        ],
        [
         "26",
         "5.0",
         "3.4",
         "1.6",
         "0.4",
         "0"
        ],
        [
         "27",
         "5.2",
         "3.5",
         "1.5",
         "0.2",
         "0"
        ],
        [
         "28",
         "5.2",
         "3.4",
         "1.4",
         "0.2",
         "0"
        ],
        [
         "29",
         "4.7",
         "3.2",
         "1.6",
         "0.2",
         "0"
        ],
        [
         "30",
         "4.8",
         "3.1",
         "1.6",
         "0.2",
         "0"
        ],
        [
         "31",
         "5.4",
         "3.4",
         "1.5",
         "0.4",
         "0"
        ],
        [
         "32",
         "5.2",
         "4.1",
         "1.5",
         "0.1",
         "0"
        ],
        [
         "33",
         "5.5",
         "4.2",
         "1.4",
         "0.2",
         "0"
        ],
        [
         "34",
         "4.9",
         "3.1",
         "1.5",
         "0.2",
         "0"
        ],
        [
         "35",
         "5.0",
         "3.2",
         "1.2",
         "0.2",
         "0"
        ],
        [
         "36",
         "5.5",
         "3.5",
         "1.3",
         "0.2",
         "0"
        ],
        [
         "37",
         "4.9",
         "3.6",
         "1.4",
         "0.1",
         "0"
        ],
        [
         "38",
         "4.4",
         "3.0",
         "1.3",
         "0.2",
         "0"
        ],
        [
         "39",
         "5.1",
         "3.4",
         "1.5",
         "0.2",
         "0"
        ],
        [
         "40",
         "5.0",
         "3.5",
         "1.3",
         "0.3",
         "0"
        ],
        [
         "41",
         "4.5",
         "2.3",
         "1.3",
         "0.3",
         "0"
        ],
        [
         "42",
         "4.4",
         "3.2",
         "1.3",
         "0.2",
         "0"
        ],
        [
         "43",
         "5.0",
         "3.5",
         "1.6",
         "0.6",
         "0"
        ],
        [
         "44",
         "5.1",
         "3.8",
         "1.9",
         "0.4",
         "0"
        ],
        [
         "45",
         "4.8",
         "3.0",
         "1.4",
         "0.3",
         "0"
        ],
        [
         "46",
         "5.1",
         "3.8",
         "1.6",
         "0.2",
         "0"
        ],
        [
         "47",
         "4.6",
         "3.2",
         "1.4",
         "0.2",
         "0"
        ],
        [
         "48",
         "5.3",
         "3.7",
         "1.5",
         "0.2",
         "0"
        ],
        [
         "49",
         "5.0",
         "3.3",
         "1.4",
         "0.2",
         "0"
        ]
       ],
       "shape": {
        "columns": 5,
        "rows": 150
       }
      },
      "text/html": [
       "<div>\n",
       "<style scoped>\n",
       "    .dataframe tbody tr th:only-of-type {\n",
       "        vertical-align: middle;\n",
       "    }\n",
       "\n",
       "    .dataframe tbody tr th {\n",
       "        vertical-align: top;\n",
       "    }\n",
       "\n",
       "    .dataframe thead th {\n",
       "        text-align: right;\n",
       "    }\n",
       "</style>\n",
       "<table border=\"1\" class=\"dataframe\">\n",
       "  <thead>\n",
       "    <tr style=\"text-align: right;\">\n",
       "      <th></th>\n",
       "      <th>sepal length (cm)</th>\n",
       "      <th>sepal width (cm)</th>\n",
       "      <th>petal length (cm)</th>\n",
       "      <th>petal width (cm)</th>\n",
       "      <th>encoded_target</th>\n",
       "    </tr>\n",
       "  </thead>\n",
       "  <tbody>\n",
       "    <tr>\n",
       "      <th>0</th>\n",
       "      <td>5.1</td>\n",
       "      <td>3.5</td>\n",
       "      <td>1.4</td>\n",
       "      <td>0.2</td>\n",
       "      <td>0</td>\n",
       "    </tr>\n",
       "    <tr>\n",
       "      <th>1</th>\n",
       "      <td>4.9</td>\n",
       "      <td>3.0</td>\n",
       "      <td>1.4</td>\n",
       "      <td>0.2</td>\n",
       "      <td>0</td>\n",
       "    </tr>\n",
       "    <tr>\n",
       "      <th>2</th>\n",
       "      <td>4.7</td>\n",
       "      <td>3.2</td>\n",
       "      <td>1.3</td>\n",
       "      <td>0.2</td>\n",
       "      <td>0</td>\n",
       "    </tr>\n",
       "    <tr>\n",
       "      <th>3</th>\n",
       "      <td>4.6</td>\n",
       "      <td>3.1</td>\n",
       "      <td>1.5</td>\n",
       "      <td>0.2</td>\n",
       "      <td>0</td>\n",
       "    </tr>\n",
       "    <tr>\n",
       "      <th>4</th>\n",
       "      <td>5.0</td>\n",
       "      <td>3.6</td>\n",
       "      <td>1.4</td>\n",
       "      <td>0.2</td>\n",
       "      <td>0</td>\n",
       "    </tr>\n",
       "    <tr>\n",
       "      <th>...</th>\n",
       "      <td>...</td>\n",
       "      <td>...</td>\n",
       "      <td>...</td>\n",
       "      <td>...</td>\n",
       "      <td>...</td>\n",
       "    </tr>\n",
       "    <tr>\n",
       "      <th>145</th>\n",
       "      <td>6.7</td>\n",
       "      <td>3.0</td>\n",
       "      <td>5.2</td>\n",
       "      <td>2.3</td>\n",
       "      <td>2</td>\n",
       "    </tr>\n",
       "    <tr>\n",
       "      <th>146</th>\n",
       "      <td>6.3</td>\n",
       "      <td>2.5</td>\n",
       "      <td>5.0</td>\n",
       "      <td>1.9</td>\n",
       "      <td>2</td>\n",
       "    </tr>\n",
       "    <tr>\n",
       "      <th>147</th>\n",
       "      <td>6.5</td>\n",
       "      <td>3.0</td>\n",
       "      <td>5.2</td>\n",
       "      <td>2.0</td>\n",
       "      <td>2</td>\n",
       "    </tr>\n",
       "    <tr>\n",
       "      <th>148</th>\n",
       "      <td>6.2</td>\n",
       "      <td>3.4</td>\n",
       "      <td>5.4</td>\n",
       "      <td>2.3</td>\n",
       "      <td>2</td>\n",
       "    </tr>\n",
       "    <tr>\n",
       "      <th>149</th>\n",
       "      <td>5.9</td>\n",
       "      <td>3.0</td>\n",
       "      <td>5.1</td>\n",
       "      <td>1.8</td>\n",
       "      <td>2</td>\n",
       "    </tr>\n",
       "  </tbody>\n",
       "</table>\n",
       "<p>150 rows × 5 columns</p>\n",
       "</div>"
      ],
      "text/plain": [
       "     sepal length (cm)  sepal width (cm)  petal length (cm)  petal width (cm)  \\\n",
       "0                  5.1               3.5                1.4               0.2   \n",
       "1                  4.9               3.0                1.4               0.2   \n",
       "2                  4.7               3.2                1.3               0.2   \n",
       "3                  4.6               3.1                1.5               0.2   \n",
       "4                  5.0               3.6                1.4               0.2   \n",
       "..                 ...               ...                ...               ...   \n",
       "145                6.7               3.0                5.2               2.3   \n",
       "146                6.3               2.5                5.0               1.9   \n",
       "147                6.5               3.0                5.2               2.0   \n",
       "148                6.2               3.4                5.4               2.3   \n",
       "149                5.9               3.0                5.1               1.8   \n",
       "\n",
       "     encoded_target  \n",
       "0                 0  \n",
       "1                 0  \n",
       "2                 0  \n",
       "3                 0  \n",
       "4                 0  \n",
       "..              ...  \n",
       "145               2  \n",
       "146               2  \n",
       "147               2  \n",
       "148               2  \n",
       "149               2  \n",
       "\n",
       "[150 rows x 5 columns]"
      ]
     },
     "execution_count": 6,
     "metadata": {},
     "output_type": "execute_result"
    }
   ],
   "source": [
    "iris_df"
   ]
  },
  {
   "cell_type": "markdown",
   "id": "9dd8ca7c",
   "metadata": {},
   "source": [
    "## Lidando com Dados Nulos e Corrompidos"
   ]
  },
  {
   "cell_type": "code",
   "execution_count": null,
   "id": "dcffdd13",
   "metadata": {},
   "outputs": [
    {
     "name": "stderr",
     "output_type": "stream",
     "text": [
      "/tmp/ipykernel_18468/125148158.py:8: FutureWarning: Setting an item of incompatible dtype is deprecated and will raise an error in a future version of pandas. Value 'cancanqnqwe' has dtype incompatible with float64, please explicitly cast to a compatible dtype first.\n",
      "  iris_df.iloc[3, 0] = \"cancanqnqwe\"\n"
     ]
    }
   ],
   "source": [
    "iris_df.iloc[0, 0] = None\n",
    "iris_df.iloc[0, 1] = None\n",
    "iris_df.iloc[0, 2] = None\n",
    "iris_df.iloc[1, 0] = None\n",
    "iris_df.iloc[4, 3] = None\n",
    "iris_df.iloc[149, 2] = None\n",
    "iris_df.iloc[3, 3] = -9999\n",
    "iris_df.iloc[3, 0] = \"cancanqnqwe\"\n",
    "\n"
   ]
  },
  {
   "cell_type": "code",
   "execution_count": 8,
   "id": "fb6e7d95",
   "metadata": {},
   "outputs": [
    {
     "data": {
      "application/vnd.microsoft.datawrangler.viewer.v0+json": {
       "columns": [
        {
         "name": "index",
         "rawType": "int64",
         "type": "integer"
        },
        {
         "name": "sepal length (cm)",
         "rawType": "object",
         "type": "unknown"
        },
        {
         "name": "sepal width (cm)",
         "rawType": "float64",
         "type": "float"
        },
        {
         "name": "petal length (cm)",
         "rawType": "float64",
         "type": "float"
        },
        {
         "name": "petal width (cm)",
         "rawType": "float64",
         "type": "float"
        },
        {
         "name": "encoded_target",
         "rawType": "int64",
         "type": "integer"
        }
       ],
       "conversionMethod": "pd.DataFrame",
       "ref": "382111e1-9c56-4de9-ade9-813e064ee8d3",
       "rows": [
        [
         "0",
         null,
         null,
         null,
         "0.2",
         "0"
        ],
        [
         "1",
         null,
         "3.0",
         "1.4",
         "0.2",
         "0"
        ],
        [
         "2",
         "4.7",
         "3.2",
         "1.3",
         "0.2",
         "0"
        ],
        [
         "3",
         "cancanqnqwe",
         "3.1",
         "1.5",
         "-999999999999.0",
         "0"
        ],
        [
         "4",
         "5.0",
         "3.6",
         "1.4",
         null,
         "0"
        ],
        [
         "5",
         "5.4",
         "3.9",
         "1.7",
         "0.4",
         "0"
        ],
        [
         "6",
         "4.6",
         "3.4",
         "1.4",
         "0.3",
         "0"
        ],
        [
         "7",
         "5.0",
         "3.4",
         "1.5",
         "0.2",
         "0"
        ],
        [
         "8",
         "4.4",
         "2.9",
         "1.4",
         "0.2",
         "0"
        ],
        [
         "9",
         "4.9",
         "3.1",
         "1.5",
         "0.1",
         "0"
        ],
        [
         "10",
         "5.4",
         "3.7",
         "1.5",
         "0.2",
         "0"
        ],
        [
         "11",
         "4.8",
         "3.4",
         "1.6",
         "0.2",
         "0"
        ],
        [
         "12",
         "4.8",
         "3.0",
         "1.4",
         "0.1",
         "0"
        ],
        [
         "13",
         "4.3",
         "3.0",
         "1.1",
         "0.1",
         "0"
        ],
        [
         "14",
         "5.8",
         "4.0",
         "1.2",
         "0.2",
         "0"
        ],
        [
         "15",
         "5.7",
         "4.4",
         "1.5",
         "0.4",
         "0"
        ],
        [
         "16",
         "5.4",
         "3.9",
         "1.3",
         "0.4",
         "0"
        ],
        [
         "17",
         "5.1",
         "3.5",
         "1.4",
         "0.3",
         "0"
        ],
        [
         "18",
         "5.7",
         "3.8",
         "1.7",
         "0.3",
         "0"
        ],
        [
         "19",
         "5.1",
         "3.8",
         "1.5",
         "0.3",
         "0"
        ],
        [
         "20",
         "5.4",
         "3.4",
         "1.7",
         "0.2",
         "0"
        ],
        [
         "21",
         "5.1",
         "3.7",
         "1.5",
         "0.4",
         "0"
        ],
        [
         "22",
         "4.6",
         "3.6",
         "1.0",
         "0.2",
         "0"
        ],
        [
         "23",
         "5.1",
         "3.3",
         "1.7",
         "0.5",
         "0"
        ],
        [
         "24",
         "4.8",
         "3.4",
         "1.9",
         "0.2",
         "0"
        ],
        [
         "25",
         "5.0",
         "3.0",
         "1.6",
         "0.2",
         "0"
        ],
        [
         "26",
         "5.0",
         "3.4",
         "1.6",
         "0.4",
         "0"
        ],
        [
         "27",
         "5.2",
         "3.5",
         "1.5",
         "0.2",
         "0"
        ],
        [
         "28",
         "5.2",
         "3.4",
         "1.4",
         "0.2",
         "0"
        ],
        [
         "29",
         "4.7",
         "3.2",
         "1.6",
         "0.2",
         "0"
        ],
        [
         "30",
         "4.8",
         "3.1",
         "1.6",
         "0.2",
         "0"
        ],
        [
         "31",
         "5.4",
         "3.4",
         "1.5",
         "0.4",
         "0"
        ],
        [
         "32",
         "5.2",
         "4.1",
         "1.5",
         "0.1",
         "0"
        ],
        [
         "33",
         "5.5",
         "4.2",
         "1.4",
         "0.2",
         "0"
        ],
        [
         "34",
         "4.9",
         "3.1",
         "1.5",
         "0.2",
         "0"
        ],
        [
         "35",
         "5.0",
         "3.2",
         "1.2",
         "0.2",
         "0"
        ],
        [
         "36",
         "5.5",
         "3.5",
         "1.3",
         "0.2",
         "0"
        ],
        [
         "37",
         "4.9",
         "3.6",
         "1.4",
         "0.1",
         "0"
        ],
        [
         "38",
         "4.4",
         "3.0",
         "1.3",
         "0.2",
         "0"
        ],
        [
         "39",
         "5.1",
         "3.4",
         "1.5",
         "0.2",
         "0"
        ],
        [
         "40",
         "5.0",
         "3.5",
         "1.3",
         "0.3",
         "0"
        ],
        [
         "41",
         "4.5",
         "2.3",
         "1.3",
         "0.3",
         "0"
        ],
        [
         "42",
         "4.4",
         "3.2",
         "1.3",
         "0.2",
         "0"
        ],
        [
         "43",
         "5.0",
         "3.5",
         "1.6",
         "0.6",
         "0"
        ],
        [
         "44",
         "5.1",
         "3.8",
         "1.9",
         "0.4",
         "0"
        ],
        [
         "45",
         "4.8",
         "3.0",
         "1.4",
         "0.3",
         "0"
        ],
        [
         "46",
         "5.1",
         "3.8",
         "1.6",
         "0.2",
         "0"
        ],
        [
         "47",
         "4.6",
         "3.2",
         "1.4",
         "0.2",
         "0"
        ],
        [
         "48",
         "5.3",
         "3.7",
         "1.5",
         "0.2",
         "0"
        ],
        [
         "49",
         "5.0",
         "3.3",
         "1.4",
         "0.2",
         "0"
        ]
       ],
       "shape": {
        "columns": 5,
        "rows": 150
       }
      },
      "text/html": [
       "<div>\n",
       "<style scoped>\n",
       "    .dataframe tbody tr th:only-of-type {\n",
       "        vertical-align: middle;\n",
       "    }\n",
       "\n",
       "    .dataframe tbody tr th {\n",
       "        vertical-align: top;\n",
       "    }\n",
       "\n",
       "    .dataframe thead th {\n",
       "        text-align: right;\n",
       "    }\n",
       "</style>\n",
       "<table border=\"1\" class=\"dataframe\">\n",
       "  <thead>\n",
       "    <tr style=\"text-align: right;\">\n",
       "      <th></th>\n",
       "      <th>sepal length (cm)</th>\n",
       "      <th>sepal width (cm)</th>\n",
       "      <th>petal length (cm)</th>\n",
       "      <th>petal width (cm)</th>\n",
       "      <th>encoded_target</th>\n",
       "    </tr>\n",
       "  </thead>\n",
       "  <tbody>\n",
       "    <tr>\n",
       "      <th>0</th>\n",
       "      <td>NaN</td>\n",
       "      <td>NaN</td>\n",
       "      <td>NaN</td>\n",
       "      <td>2.000000e-01</td>\n",
       "      <td>0</td>\n",
       "    </tr>\n",
       "    <tr>\n",
       "      <th>1</th>\n",
       "      <td>NaN</td>\n",
       "      <td>3.0</td>\n",
       "      <td>1.4</td>\n",
       "      <td>2.000000e-01</td>\n",
       "      <td>0</td>\n",
       "    </tr>\n",
       "    <tr>\n",
       "      <th>2</th>\n",
       "      <td>4.7</td>\n",
       "      <td>3.2</td>\n",
       "      <td>1.3</td>\n",
       "      <td>2.000000e-01</td>\n",
       "      <td>0</td>\n",
       "    </tr>\n",
       "    <tr>\n",
       "      <th>3</th>\n",
       "      <td>cancanqnqwe</td>\n",
       "      <td>3.1</td>\n",
       "      <td>1.5</td>\n",
       "      <td>-1.000000e+12</td>\n",
       "      <td>0</td>\n",
       "    </tr>\n",
       "    <tr>\n",
       "      <th>4</th>\n",
       "      <td>5.0</td>\n",
       "      <td>3.6</td>\n",
       "      <td>1.4</td>\n",
       "      <td>NaN</td>\n",
       "      <td>0</td>\n",
       "    </tr>\n",
       "    <tr>\n",
       "      <th>...</th>\n",
       "      <td>...</td>\n",
       "      <td>...</td>\n",
       "      <td>...</td>\n",
       "      <td>...</td>\n",
       "      <td>...</td>\n",
       "    </tr>\n",
       "    <tr>\n",
       "      <th>145</th>\n",
       "      <td>6.7</td>\n",
       "      <td>3.0</td>\n",
       "      <td>5.2</td>\n",
       "      <td>2.300000e+00</td>\n",
       "      <td>2</td>\n",
       "    </tr>\n",
       "    <tr>\n",
       "      <th>146</th>\n",
       "      <td>6.3</td>\n",
       "      <td>2.5</td>\n",
       "      <td>5.0</td>\n",
       "      <td>1.900000e+00</td>\n",
       "      <td>2</td>\n",
       "    </tr>\n",
       "    <tr>\n",
       "      <th>147</th>\n",
       "      <td>6.5</td>\n",
       "      <td>3.0</td>\n",
       "      <td>5.2</td>\n",
       "      <td>2.000000e+00</td>\n",
       "      <td>2</td>\n",
       "    </tr>\n",
       "    <tr>\n",
       "      <th>148</th>\n",
       "      <td>6.2</td>\n",
       "      <td>3.4</td>\n",
       "      <td>5.4</td>\n",
       "      <td>2.300000e+00</td>\n",
       "      <td>2</td>\n",
       "    </tr>\n",
       "    <tr>\n",
       "      <th>149</th>\n",
       "      <td>5.9</td>\n",
       "      <td>3.0</td>\n",
       "      <td>NaN</td>\n",
       "      <td>1.800000e+00</td>\n",
       "      <td>2</td>\n",
       "    </tr>\n",
       "  </tbody>\n",
       "</table>\n",
       "<p>150 rows × 5 columns</p>\n",
       "</div>"
      ],
      "text/plain": [
       "    sepal length (cm)  sepal width (cm)  petal length (cm)  petal width (cm)  \\\n",
       "0                 NaN               NaN                NaN      2.000000e-01   \n",
       "1                 NaN               3.0                1.4      2.000000e-01   \n",
       "2                 4.7               3.2                1.3      2.000000e-01   \n",
       "3         cancanqnqwe               3.1                1.5     -1.000000e+12   \n",
       "4                 5.0               3.6                1.4               NaN   \n",
       "..                ...               ...                ...               ...   \n",
       "145               6.7               3.0                5.2      2.300000e+00   \n",
       "146               6.3               2.5                5.0      1.900000e+00   \n",
       "147               6.5               3.0                5.2      2.000000e+00   \n",
       "148               6.2               3.4                5.4      2.300000e+00   \n",
       "149               5.9               3.0                NaN      1.800000e+00   \n",
       "\n",
       "     encoded_target  \n",
       "0                 0  \n",
       "1                 0  \n",
       "2                 0  \n",
       "3                 0  \n",
       "4                 0  \n",
       "..              ...  \n",
       "145               2  \n",
       "146               2  \n",
       "147               2  \n",
       "148               2  \n",
       "149               2  \n",
       "\n",
       "[150 rows x 5 columns]"
      ]
     },
     "execution_count": 8,
     "metadata": {},
     "output_type": "execute_result"
    }
   ],
   "source": [
    "iris_df"
   ]
  },
  {
   "cell_type": "code",
   "execution_count": 9,
   "id": "73d8571f",
   "metadata": {},
   "outputs": [
    {
     "data": {
      "application/vnd.microsoft.datawrangler.viewer.v0+json": {
       "columns": [
        {
         "name": "index",
         "rawType": "int64",
         "type": "integer"
        },
        {
         "name": "sepal length (cm)",
         "rawType": "bool",
         "type": "boolean"
        },
        {
         "name": "sepal width (cm)",
         "rawType": "bool",
         "type": "boolean"
        },
        {
         "name": "petal length (cm)",
         "rawType": "bool",
         "type": "boolean"
        },
        {
         "name": "petal width (cm)",
         "rawType": "bool",
         "type": "boolean"
        },
        {
         "name": "encoded_target",
         "rawType": "bool",
         "type": "boolean"
        }
       ],
       "conversionMethod": "pd.DataFrame",
       "ref": "e8859829-11a4-4567-9285-c5ea5dedeedd",
       "rows": [
        [
         "0",
         "True",
         "True",
         "True",
         "False",
         "False"
        ],
        [
         "1",
         "True",
         "False",
         "False",
         "False",
         "False"
        ],
        [
         "2",
         "False",
         "False",
         "False",
         "False",
         "False"
        ],
        [
         "3",
         "False",
         "False",
         "False",
         "False",
         "False"
        ],
        [
         "4",
         "False",
         "False",
         "False",
         "True",
         "False"
        ],
        [
         "5",
         "False",
         "False",
         "False",
         "False",
         "False"
        ],
        [
         "6",
         "False",
         "False",
         "False",
         "False",
         "False"
        ],
        [
         "7",
         "False",
         "False",
         "False",
         "False",
         "False"
        ],
        [
         "8",
         "False",
         "False",
         "False",
         "False",
         "False"
        ],
        [
         "9",
         "False",
         "False",
         "False",
         "False",
         "False"
        ],
        [
         "10",
         "False",
         "False",
         "False",
         "False",
         "False"
        ],
        [
         "11",
         "False",
         "False",
         "False",
         "False",
         "False"
        ],
        [
         "12",
         "False",
         "False",
         "False",
         "False",
         "False"
        ],
        [
         "13",
         "False",
         "False",
         "False",
         "False",
         "False"
        ],
        [
         "14",
         "False",
         "False",
         "False",
         "False",
         "False"
        ],
        [
         "15",
         "False",
         "False",
         "False",
         "False",
         "False"
        ],
        [
         "16",
         "False",
         "False",
         "False",
         "False",
         "False"
        ],
        [
         "17",
         "False",
         "False",
         "False",
         "False",
         "False"
        ],
        [
         "18",
         "False",
         "False",
         "False",
         "False",
         "False"
        ],
        [
         "19",
         "False",
         "False",
         "False",
         "False",
         "False"
        ],
        [
         "20",
         "False",
         "False",
         "False",
         "False",
         "False"
        ],
        [
         "21",
         "False",
         "False",
         "False",
         "False",
         "False"
        ],
        [
         "22",
         "False",
         "False",
         "False",
         "False",
         "False"
        ],
        [
         "23",
         "False",
         "False",
         "False",
         "False",
         "False"
        ],
        [
         "24",
         "False",
         "False",
         "False",
         "False",
         "False"
        ],
        [
         "25",
         "False",
         "False",
         "False",
         "False",
         "False"
        ],
        [
         "26",
         "False",
         "False",
         "False",
         "False",
         "False"
        ],
        [
         "27",
         "False",
         "False",
         "False",
         "False",
         "False"
        ],
        [
         "28",
         "False",
         "False",
         "False",
         "False",
         "False"
        ],
        [
         "29",
         "False",
         "False",
         "False",
         "False",
         "False"
        ],
        [
         "30",
         "False",
         "False",
         "False",
         "False",
         "False"
        ],
        [
         "31",
         "False",
         "False",
         "False",
         "False",
         "False"
        ],
        [
         "32",
         "False",
         "False",
         "False",
         "False",
         "False"
        ],
        [
         "33",
         "False",
         "False",
         "False",
         "False",
         "False"
        ],
        [
         "34",
         "False",
         "False",
         "False",
         "False",
         "False"
        ],
        [
         "35",
         "False",
         "False",
         "False",
         "False",
         "False"
        ],
        [
         "36",
         "False",
         "False",
         "False",
         "False",
         "False"
        ],
        [
         "37",
         "False",
         "False",
         "False",
         "False",
         "False"
        ],
        [
         "38",
         "False",
         "False",
         "False",
         "False",
         "False"
        ],
        [
         "39",
         "False",
         "False",
         "False",
         "False",
         "False"
        ],
        [
         "40",
         "False",
         "False",
         "False",
         "False",
         "False"
        ],
        [
         "41",
         "False",
         "False",
         "False",
         "False",
         "False"
        ],
        [
         "42",
         "False",
         "False",
         "False",
         "False",
         "False"
        ],
        [
         "43",
         "False",
         "False",
         "False",
         "False",
         "False"
        ],
        [
         "44",
         "False",
         "False",
         "False",
         "False",
         "False"
        ],
        [
         "45",
         "False",
         "False",
         "False",
         "False",
         "False"
        ],
        [
         "46",
         "False",
         "False",
         "False",
         "False",
         "False"
        ],
        [
         "47",
         "False",
         "False",
         "False",
         "False",
         "False"
        ],
        [
         "48",
         "False",
         "False",
         "False",
         "False",
         "False"
        ],
        [
         "49",
         "False",
         "False",
         "False",
         "False",
         "False"
        ]
       ],
       "shape": {
        "columns": 5,
        "rows": 150
       }
      },
      "text/html": [
       "<div>\n",
       "<style scoped>\n",
       "    .dataframe tbody tr th:only-of-type {\n",
       "        vertical-align: middle;\n",
       "    }\n",
       "\n",
       "    .dataframe tbody tr th {\n",
       "        vertical-align: top;\n",
       "    }\n",
       "\n",
       "    .dataframe thead th {\n",
       "        text-align: right;\n",
       "    }\n",
       "</style>\n",
       "<table border=\"1\" class=\"dataframe\">\n",
       "  <thead>\n",
       "    <tr style=\"text-align: right;\">\n",
       "      <th></th>\n",
       "      <th>sepal length (cm)</th>\n",
       "      <th>sepal width (cm)</th>\n",
       "      <th>petal length (cm)</th>\n",
       "      <th>petal width (cm)</th>\n",
       "      <th>encoded_target</th>\n",
       "    </tr>\n",
       "  </thead>\n",
       "  <tbody>\n",
       "    <tr>\n",
       "      <th>0</th>\n",
       "      <td>True</td>\n",
       "      <td>True</td>\n",
       "      <td>True</td>\n",
       "      <td>False</td>\n",
       "      <td>False</td>\n",
       "    </tr>\n",
       "    <tr>\n",
       "      <th>1</th>\n",
       "      <td>True</td>\n",
       "      <td>False</td>\n",
       "      <td>False</td>\n",
       "      <td>False</td>\n",
       "      <td>False</td>\n",
       "    </tr>\n",
       "    <tr>\n",
       "      <th>2</th>\n",
       "      <td>False</td>\n",
       "      <td>False</td>\n",
       "      <td>False</td>\n",
       "      <td>False</td>\n",
       "      <td>False</td>\n",
       "    </tr>\n",
       "    <tr>\n",
       "      <th>3</th>\n",
       "      <td>False</td>\n",
       "      <td>False</td>\n",
       "      <td>False</td>\n",
       "      <td>False</td>\n",
       "      <td>False</td>\n",
       "    </tr>\n",
       "    <tr>\n",
       "      <th>4</th>\n",
       "      <td>False</td>\n",
       "      <td>False</td>\n",
       "      <td>False</td>\n",
       "      <td>True</td>\n",
       "      <td>False</td>\n",
       "    </tr>\n",
       "    <tr>\n",
       "      <th>...</th>\n",
       "      <td>...</td>\n",
       "      <td>...</td>\n",
       "      <td>...</td>\n",
       "      <td>...</td>\n",
       "      <td>...</td>\n",
       "    </tr>\n",
       "    <tr>\n",
       "      <th>145</th>\n",
       "      <td>False</td>\n",
       "      <td>False</td>\n",
       "      <td>False</td>\n",
       "      <td>False</td>\n",
       "      <td>False</td>\n",
       "    </tr>\n",
       "    <tr>\n",
       "      <th>146</th>\n",
       "      <td>False</td>\n",
       "      <td>False</td>\n",
       "      <td>False</td>\n",
       "      <td>False</td>\n",
       "      <td>False</td>\n",
       "    </tr>\n",
       "    <tr>\n",
       "      <th>147</th>\n",
       "      <td>False</td>\n",
       "      <td>False</td>\n",
       "      <td>False</td>\n",
       "      <td>False</td>\n",
       "      <td>False</td>\n",
       "    </tr>\n",
       "    <tr>\n",
       "      <th>148</th>\n",
       "      <td>False</td>\n",
       "      <td>False</td>\n",
       "      <td>False</td>\n",
       "      <td>False</td>\n",
       "      <td>False</td>\n",
       "    </tr>\n",
       "    <tr>\n",
       "      <th>149</th>\n",
       "      <td>False</td>\n",
       "      <td>False</td>\n",
       "      <td>True</td>\n",
       "      <td>False</td>\n",
       "      <td>False</td>\n",
       "    </tr>\n",
       "  </tbody>\n",
       "</table>\n",
       "<p>150 rows × 5 columns</p>\n",
       "</div>"
      ],
      "text/plain": [
       "     sepal length (cm)  sepal width (cm)  petal length (cm)  petal width (cm)  \\\n",
       "0                 True              True               True             False   \n",
       "1                 True             False              False             False   \n",
       "2                False             False              False             False   \n",
       "3                False             False              False             False   \n",
       "4                False             False              False              True   \n",
       "..                 ...               ...                ...               ...   \n",
       "145              False             False              False             False   \n",
       "146              False             False              False             False   \n",
       "147              False             False              False             False   \n",
       "148              False             False              False             False   \n",
       "149              False             False               True             False   \n",
       "\n",
       "     encoded_target  \n",
       "0             False  \n",
       "1             False  \n",
       "2             False  \n",
       "3             False  \n",
       "4             False  \n",
       "..              ...  \n",
       "145           False  \n",
       "146           False  \n",
       "147           False  \n",
       "148           False  \n",
       "149           False  \n",
       "\n",
       "[150 rows x 5 columns]"
      ]
     },
     "execution_count": 9,
     "metadata": {},
     "output_type": "execute_result"
    }
   ],
   "source": [
    "iris_df.isna()"
   ]
  },
  {
   "cell_type": "code",
   "execution_count": 10,
   "id": "81b08f8f",
   "metadata": {},
   "outputs": [
    {
     "data": {
      "application/vnd.microsoft.datawrangler.viewer.v0+json": {
       "columns": [
        {
         "name": "index",
         "rawType": "int64",
         "type": "integer"
        },
        {
         "name": "sepal length (cm)",
         "rawType": "object",
         "type": "unknown"
        },
        {
         "name": "sepal width (cm)",
         "rawType": "float64",
         "type": "float"
        },
        {
         "name": "petal length (cm)",
         "rawType": "float64",
         "type": "float"
        },
        {
         "name": "petal width (cm)",
         "rawType": "float64",
         "type": "float"
        },
        {
         "name": "encoded_target",
         "rawType": "int64",
         "type": "integer"
        }
       ],
       "conversionMethod": "pd.DataFrame",
       "ref": "0fa1d9d6-f7b8-4aa0-9cb6-dd3a2c667360",
       "rows": [
        [
         "0",
         null,
         null,
         null,
         "0.2",
         "0"
        ],
        [
         "1",
         null,
         "3.0",
         "1.4",
         "0.2",
         "0"
        ],
        [
         "4",
         "5.0",
         "3.6",
         "1.4",
         null,
         "0"
        ],
        [
         "149",
         "5.9",
         "3.0",
         null,
         "1.8",
         "2"
        ]
       ],
       "shape": {
        "columns": 5,
        "rows": 4
       }
      },
      "text/html": [
       "<div>\n",
       "<style scoped>\n",
       "    .dataframe tbody tr th:only-of-type {\n",
       "        vertical-align: middle;\n",
       "    }\n",
       "\n",
       "    .dataframe tbody tr th {\n",
       "        vertical-align: top;\n",
       "    }\n",
       "\n",
       "    .dataframe thead th {\n",
       "        text-align: right;\n",
       "    }\n",
       "</style>\n",
       "<table border=\"1\" class=\"dataframe\">\n",
       "  <thead>\n",
       "    <tr style=\"text-align: right;\">\n",
       "      <th></th>\n",
       "      <th>sepal length (cm)</th>\n",
       "      <th>sepal width (cm)</th>\n",
       "      <th>petal length (cm)</th>\n",
       "      <th>petal width (cm)</th>\n",
       "      <th>encoded_target</th>\n",
       "    </tr>\n",
       "  </thead>\n",
       "  <tbody>\n",
       "    <tr>\n",
       "      <th>0</th>\n",
       "      <td>NaN</td>\n",
       "      <td>NaN</td>\n",
       "      <td>NaN</td>\n",
       "      <td>0.2</td>\n",
       "      <td>0</td>\n",
       "    </tr>\n",
       "    <tr>\n",
       "      <th>1</th>\n",
       "      <td>NaN</td>\n",
       "      <td>3.0</td>\n",
       "      <td>1.4</td>\n",
       "      <td>0.2</td>\n",
       "      <td>0</td>\n",
       "    </tr>\n",
       "    <tr>\n",
       "      <th>4</th>\n",
       "      <td>5.0</td>\n",
       "      <td>3.6</td>\n",
       "      <td>1.4</td>\n",
       "      <td>NaN</td>\n",
       "      <td>0</td>\n",
       "    </tr>\n",
       "    <tr>\n",
       "      <th>149</th>\n",
       "      <td>5.9</td>\n",
       "      <td>3.0</td>\n",
       "      <td>NaN</td>\n",
       "      <td>1.8</td>\n",
       "      <td>2</td>\n",
       "    </tr>\n",
       "  </tbody>\n",
       "</table>\n",
       "</div>"
      ],
      "text/plain": [
       "    sepal length (cm)  sepal width (cm)  petal length (cm)  petal width (cm)  \\\n",
       "0                 NaN               NaN                NaN               0.2   \n",
       "1                 NaN               3.0                1.4               0.2   \n",
       "4                 5.0               3.6                1.4               NaN   \n",
       "149               5.9               3.0                NaN               1.8   \n",
       "\n",
       "     encoded_target  \n",
       "0                 0  \n",
       "1                 0  \n",
       "4                 0  \n",
       "149               2  "
      ]
     },
     "execution_count": 10,
     "metadata": {},
     "output_type": "execute_result"
    }
   ],
   "source": [
    "iris_df[iris_df.isna().any(axis=1)]"
   ]
  },
  {
   "cell_type": "code",
   "execution_count": 11,
   "id": "ce3497b8",
   "metadata": {},
   "outputs": [],
   "source": [
    "iris_df_rem = iris_df.dropna()"
   ]
  },
  {
   "cell_type": "code",
   "execution_count": 12,
   "id": "6d398d90",
   "metadata": {},
   "outputs": [
    {
     "data": {
      "application/vnd.microsoft.datawrangler.viewer.v0+json": {
       "columns": [
        {
         "name": "index",
         "rawType": "int64",
         "type": "integer"
        },
        {
         "name": "sepal length (cm)",
         "rawType": "object",
         "type": "string"
        },
        {
         "name": "sepal width (cm)",
         "rawType": "float64",
         "type": "float"
        },
        {
         "name": "petal length (cm)",
         "rawType": "float64",
         "type": "float"
        },
        {
         "name": "petal width (cm)",
         "rawType": "float64",
         "type": "float"
        },
        {
         "name": "encoded_target",
         "rawType": "int64",
         "type": "integer"
        }
       ],
       "conversionMethod": "pd.DataFrame",
       "ref": "c48bc24c-4ce6-4cc4-bbb6-427e0d611d83",
       "rows": [],
       "shape": {
        "columns": 5,
        "rows": 0
       }
      },
      "text/html": [
       "<div>\n",
       "<style scoped>\n",
       "    .dataframe tbody tr th:only-of-type {\n",
       "        vertical-align: middle;\n",
       "    }\n",
       "\n",
       "    .dataframe tbody tr th {\n",
       "        vertical-align: top;\n",
       "    }\n",
       "\n",
       "    .dataframe thead th {\n",
       "        text-align: right;\n",
       "    }\n",
       "</style>\n",
       "<table border=\"1\" class=\"dataframe\">\n",
       "  <thead>\n",
       "    <tr style=\"text-align: right;\">\n",
       "      <th></th>\n",
       "      <th>sepal length (cm)</th>\n",
       "      <th>sepal width (cm)</th>\n",
       "      <th>petal length (cm)</th>\n",
       "      <th>petal width (cm)</th>\n",
       "      <th>encoded_target</th>\n",
       "    </tr>\n",
       "  </thead>\n",
       "  <tbody>\n",
       "  </tbody>\n",
       "</table>\n",
       "</div>"
      ],
      "text/plain": [
       "Empty DataFrame\n",
       "Columns: [sepal length (cm), sepal width (cm), petal length (cm), petal width (cm), encoded_target]\n",
       "Index: []"
      ]
     },
     "execution_count": 12,
     "metadata": {},
     "output_type": "execute_result"
    }
   ],
   "source": [
    "iris_df_rem[iris_df_rem.isna().any(axis=1)]"
   ]
  },
  {
   "cell_type": "code",
   "execution_count": 13,
   "id": "b6187124",
   "metadata": {},
   "outputs": [
    {
     "data": {
      "application/vnd.microsoft.datawrangler.viewer.v0+json": {
       "columns": [
        {
         "name": "index",
         "rawType": "int64",
         "type": "integer"
        },
        {
         "name": "sepal length (cm)",
         "rawType": "object",
         "type": "unknown"
        },
        {
         "name": "sepal width (cm)",
         "rawType": "float64",
         "type": "float"
        },
        {
         "name": "petal length (cm)",
         "rawType": "float64",
         "type": "float"
        },
        {
         "name": "petal width (cm)",
         "rawType": "float64",
         "type": "float"
        },
        {
         "name": "encoded_target",
         "rawType": "int64",
         "type": "integer"
        }
       ],
       "conversionMethod": "pd.DataFrame",
       "ref": "9fe02de1-9515-42fa-9d8d-36cc0ea2e6d9",
       "rows": [
        [
         "0",
         "0",
         "0.0",
         "0.0",
         "0.2",
         "0"
        ],
        [
         "1",
         "0",
         "3.0",
         "1.4",
         "0.2",
         "0"
        ],
        [
         "2",
         "4.7",
         "3.2",
         "1.3",
         "0.2",
         "0"
        ],
        [
         "3",
         "cancanqnqwe",
         "3.1",
         "1.5",
         "-999999999999.0",
         "0"
        ],
        [
         "4",
         "5.0",
         "3.6",
         "1.4",
         "0.0",
         "0"
        ],
        [
         "5",
         "5.4",
         "3.9",
         "1.7",
         "0.4",
         "0"
        ],
        [
         "6",
         "4.6",
         "3.4",
         "1.4",
         "0.3",
         "0"
        ],
        [
         "7",
         "5.0",
         "3.4",
         "1.5",
         "0.2",
         "0"
        ],
        [
         "8",
         "4.4",
         "2.9",
         "1.4",
         "0.2",
         "0"
        ],
        [
         "9",
         "4.9",
         "3.1",
         "1.5",
         "0.1",
         "0"
        ],
        [
         "10",
         "5.4",
         "3.7",
         "1.5",
         "0.2",
         "0"
        ],
        [
         "11",
         "4.8",
         "3.4",
         "1.6",
         "0.2",
         "0"
        ],
        [
         "12",
         "4.8",
         "3.0",
         "1.4",
         "0.1",
         "0"
        ],
        [
         "13",
         "4.3",
         "3.0",
         "1.1",
         "0.1",
         "0"
        ],
        [
         "14",
         "5.8",
         "4.0",
         "1.2",
         "0.2",
         "0"
        ],
        [
         "15",
         "5.7",
         "4.4",
         "1.5",
         "0.4",
         "0"
        ],
        [
         "16",
         "5.4",
         "3.9",
         "1.3",
         "0.4",
         "0"
        ],
        [
         "17",
         "5.1",
         "3.5",
         "1.4",
         "0.3",
         "0"
        ],
        [
         "18",
         "5.7",
         "3.8",
         "1.7",
         "0.3",
         "0"
        ],
        [
         "19",
         "5.1",
         "3.8",
         "1.5",
         "0.3",
         "0"
        ],
        [
         "20",
         "5.4",
         "3.4",
         "1.7",
         "0.2",
         "0"
        ],
        [
         "21",
         "5.1",
         "3.7",
         "1.5",
         "0.4",
         "0"
        ],
        [
         "22",
         "4.6",
         "3.6",
         "1.0",
         "0.2",
         "0"
        ],
        [
         "23",
         "5.1",
         "3.3",
         "1.7",
         "0.5",
         "0"
        ],
        [
         "24",
         "4.8",
         "3.4",
         "1.9",
         "0.2",
         "0"
        ],
        [
         "25",
         "5.0",
         "3.0",
         "1.6",
         "0.2",
         "0"
        ],
        [
         "26",
         "5.0",
         "3.4",
         "1.6",
         "0.4",
         "0"
        ],
        [
         "27",
         "5.2",
         "3.5",
         "1.5",
         "0.2",
         "0"
        ],
        [
         "28",
         "5.2",
         "3.4",
         "1.4",
         "0.2",
         "0"
        ],
        [
         "29",
         "4.7",
         "3.2",
         "1.6",
         "0.2",
         "0"
        ],
        [
         "30",
         "4.8",
         "3.1",
         "1.6",
         "0.2",
         "0"
        ],
        [
         "31",
         "5.4",
         "3.4",
         "1.5",
         "0.4",
         "0"
        ],
        [
         "32",
         "5.2",
         "4.1",
         "1.5",
         "0.1",
         "0"
        ],
        [
         "33",
         "5.5",
         "4.2",
         "1.4",
         "0.2",
         "0"
        ],
        [
         "34",
         "4.9",
         "3.1",
         "1.5",
         "0.2",
         "0"
        ],
        [
         "35",
         "5.0",
         "3.2",
         "1.2",
         "0.2",
         "0"
        ],
        [
         "36",
         "5.5",
         "3.5",
         "1.3",
         "0.2",
         "0"
        ],
        [
         "37",
         "4.9",
         "3.6",
         "1.4",
         "0.1",
         "0"
        ],
        [
         "38",
         "4.4",
         "3.0",
         "1.3",
         "0.2",
         "0"
        ],
        [
         "39",
         "5.1",
         "3.4",
         "1.5",
         "0.2",
         "0"
        ],
        [
         "40",
         "5.0",
         "3.5",
         "1.3",
         "0.3",
         "0"
        ],
        [
         "41",
         "4.5",
         "2.3",
         "1.3",
         "0.3",
         "0"
        ],
        [
         "42",
         "4.4",
         "3.2",
         "1.3",
         "0.2",
         "0"
        ],
        [
         "43",
         "5.0",
         "3.5",
         "1.6",
         "0.6",
         "0"
        ],
        [
         "44",
         "5.1",
         "3.8",
         "1.9",
         "0.4",
         "0"
        ],
        [
         "45",
         "4.8",
         "3.0",
         "1.4",
         "0.3",
         "0"
        ],
        [
         "46",
         "5.1",
         "3.8",
         "1.6",
         "0.2",
         "0"
        ],
        [
         "47",
         "4.6",
         "3.2",
         "1.4",
         "0.2",
         "0"
        ],
        [
         "48",
         "5.3",
         "3.7",
         "1.5",
         "0.2",
         "0"
        ],
        [
         "49",
         "5.0",
         "3.3",
         "1.4",
         "0.2",
         "0"
        ]
       ],
       "shape": {
        "columns": 5,
        "rows": 150
       }
      },
      "text/html": [
       "<div>\n",
       "<style scoped>\n",
       "    .dataframe tbody tr th:only-of-type {\n",
       "        vertical-align: middle;\n",
       "    }\n",
       "\n",
       "    .dataframe tbody tr th {\n",
       "        vertical-align: top;\n",
       "    }\n",
       "\n",
       "    .dataframe thead th {\n",
       "        text-align: right;\n",
       "    }\n",
       "</style>\n",
       "<table border=\"1\" class=\"dataframe\">\n",
       "  <thead>\n",
       "    <tr style=\"text-align: right;\">\n",
       "      <th></th>\n",
       "      <th>sepal length (cm)</th>\n",
       "      <th>sepal width (cm)</th>\n",
       "      <th>petal length (cm)</th>\n",
       "      <th>petal width (cm)</th>\n",
       "      <th>encoded_target</th>\n",
       "    </tr>\n",
       "  </thead>\n",
       "  <tbody>\n",
       "    <tr>\n",
       "      <th>0</th>\n",
       "      <td>0</td>\n",
       "      <td>0.0</td>\n",
       "      <td>0.0</td>\n",
       "      <td>2.000000e-01</td>\n",
       "      <td>0</td>\n",
       "    </tr>\n",
       "    <tr>\n",
       "      <th>1</th>\n",
       "      <td>0</td>\n",
       "      <td>3.0</td>\n",
       "      <td>1.4</td>\n",
       "      <td>2.000000e-01</td>\n",
       "      <td>0</td>\n",
       "    </tr>\n",
       "    <tr>\n",
       "      <th>2</th>\n",
       "      <td>4.7</td>\n",
       "      <td>3.2</td>\n",
       "      <td>1.3</td>\n",
       "      <td>2.000000e-01</td>\n",
       "      <td>0</td>\n",
       "    </tr>\n",
       "    <tr>\n",
       "      <th>3</th>\n",
       "      <td>cancanqnqwe</td>\n",
       "      <td>3.1</td>\n",
       "      <td>1.5</td>\n",
       "      <td>-1.000000e+12</td>\n",
       "      <td>0</td>\n",
       "    </tr>\n",
       "    <tr>\n",
       "      <th>4</th>\n",
       "      <td>5.0</td>\n",
       "      <td>3.6</td>\n",
       "      <td>1.4</td>\n",
       "      <td>0.000000e+00</td>\n",
       "      <td>0</td>\n",
       "    </tr>\n",
       "    <tr>\n",
       "      <th>...</th>\n",
       "      <td>...</td>\n",
       "      <td>...</td>\n",
       "      <td>...</td>\n",
       "      <td>...</td>\n",
       "      <td>...</td>\n",
       "    </tr>\n",
       "    <tr>\n",
       "      <th>145</th>\n",
       "      <td>6.7</td>\n",
       "      <td>3.0</td>\n",
       "      <td>5.2</td>\n",
       "      <td>2.300000e+00</td>\n",
       "      <td>2</td>\n",
       "    </tr>\n",
       "    <tr>\n",
       "      <th>146</th>\n",
       "      <td>6.3</td>\n",
       "      <td>2.5</td>\n",
       "      <td>5.0</td>\n",
       "      <td>1.900000e+00</td>\n",
       "      <td>2</td>\n",
       "    </tr>\n",
       "    <tr>\n",
       "      <th>147</th>\n",
       "      <td>6.5</td>\n",
       "      <td>3.0</td>\n",
       "      <td>5.2</td>\n",
       "      <td>2.000000e+00</td>\n",
       "      <td>2</td>\n",
       "    </tr>\n",
       "    <tr>\n",
       "      <th>148</th>\n",
       "      <td>6.2</td>\n",
       "      <td>3.4</td>\n",
       "      <td>5.4</td>\n",
       "      <td>2.300000e+00</td>\n",
       "      <td>2</td>\n",
       "    </tr>\n",
       "    <tr>\n",
       "      <th>149</th>\n",
       "      <td>5.9</td>\n",
       "      <td>3.0</td>\n",
       "      <td>0.0</td>\n",
       "      <td>1.800000e+00</td>\n",
       "      <td>2</td>\n",
       "    </tr>\n",
       "  </tbody>\n",
       "</table>\n",
       "<p>150 rows × 5 columns</p>\n",
       "</div>"
      ],
      "text/plain": [
       "    sepal length (cm)  sepal width (cm)  petal length (cm)  petal width (cm)  \\\n",
       "0                   0               0.0                0.0      2.000000e-01   \n",
       "1                   0               3.0                1.4      2.000000e-01   \n",
       "2                 4.7               3.2                1.3      2.000000e-01   \n",
       "3         cancanqnqwe               3.1                1.5     -1.000000e+12   \n",
       "4                 5.0               3.6                1.4      0.000000e+00   \n",
       "..                ...               ...                ...               ...   \n",
       "145               6.7               3.0                5.2      2.300000e+00   \n",
       "146               6.3               2.5                5.0      1.900000e+00   \n",
       "147               6.5               3.0                5.2      2.000000e+00   \n",
       "148               6.2               3.4                5.4      2.300000e+00   \n",
       "149               5.9               3.0                0.0      1.800000e+00   \n",
       "\n",
       "     encoded_target  \n",
       "0                 0  \n",
       "1                 0  \n",
       "2                 0  \n",
       "3                 0  \n",
       "4                 0  \n",
       "..              ...  \n",
       "145               2  \n",
       "146               2  \n",
       "147               2  \n",
       "148               2  \n",
       "149               2  \n",
       "\n",
       "[150 rows x 5 columns]"
      ]
     },
     "execution_count": 13,
     "metadata": {},
     "output_type": "execute_result"
    }
   ],
   "source": [
    "iris_df_zero = iris_df.fillna(0)\n",
    "iris_df_zero"
   ]
  },
  {
   "cell_type": "code",
   "execution_count": 14,
   "id": "81fc23ef",
   "metadata": {},
   "outputs": [
    {
     "data": {
      "application/vnd.microsoft.datawrangler.viewer.v0+json": {
       "columns": [
        {
         "name": "index",
         "rawType": "int64",
         "type": "integer"
        },
        {
         "name": "sepal length (cm)",
         "rawType": "object",
         "type": "unknown"
        },
        {
         "name": "sepal width (cm)",
         "rawType": "float64",
         "type": "float"
        },
        {
         "name": "petal length (cm)",
         "rawType": "float64",
         "type": "float"
        },
        {
         "name": "petal width (cm)",
         "rawType": "float64",
         "type": "float"
        },
        {
         "name": "encoded_target",
         "rawType": "int64",
         "type": "integer"
        }
       ],
       "conversionMethod": "pd.DataFrame",
       "ref": "683fd490-54c0-4998-b0a2-5651b22b6e13",
       "rows": [
        [
         "0",
         "-999",
         "-999.0",
         "-999.0",
         "0.2",
         "0"
        ],
        [
         "1",
         "-999",
         "3.0",
         "1.4",
         "0.2",
         "0"
        ],
        [
         "2",
         "4.7",
         "3.2",
         "1.3",
         "0.2",
         "0"
        ],
        [
         "3",
         "cancanqnqwe",
         "3.1",
         "1.5",
         "-999999999999.0",
         "0"
        ],
        [
         "4",
         "5.0",
         "3.6",
         "1.4",
         "-999.0",
         "0"
        ],
        [
         "5",
         "5.4",
         "3.9",
         "1.7",
         "0.4",
         "0"
        ],
        [
         "6",
         "4.6",
         "3.4",
         "1.4",
         "0.3",
         "0"
        ],
        [
         "7",
         "5.0",
         "3.4",
         "1.5",
         "0.2",
         "0"
        ],
        [
         "8",
         "4.4",
         "2.9",
         "1.4",
         "0.2",
         "0"
        ],
        [
         "9",
         "4.9",
         "3.1",
         "1.5",
         "0.1",
         "0"
        ],
        [
         "10",
         "5.4",
         "3.7",
         "1.5",
         "0.2",
         "0"
        ],
        [
         "11",
         "4.8",
         "3.4",
         "1.6",
         "0.2",
         "0"
        ],
        [
         "12",
         "4.8",
         "3.0",
         "1.4",
         "0.1",
         "0"
        ],
        [
         "13",
         "4.3",
         "3.0",
         "1.1",
         "0.1",
         "0"
        ],
        [
         "14",
         "5.8",
         "4.0",
         "1.2",
         "0.2",
         "0"
        ],
        [
         "15",
         "5.7",
         "4.4",
         "1.5",
         "0.4",
         "0"
        ],
        [
         "16",
         "5.4",
         "3.9",
         "1.3",
         "0.4",
         "0"
        ],
        [
         "17",
         "5.1",
         "3.5",
         "1.4",
         "0.3",
         "0"
        ],
        [
         "18",
         "5.7",
         "3.8",
         "1.7",
         "0.3",
         "0"
        ],
        [
         "19",
         "5.1",
         "3.8",
         "1.5",
         "0.3",
         "0"
        ],
        [
         "20",
         "5.4",
         "3.4",
         "1.7",
         "0.2",
         "0"
        ],
        [
         "21",
         "5.1",
         "3.7",
         "1.5",
         "0.4",
         "0"
        ],
        [
         "22",
         "4.6",
         "3.6",
         "1.0",
         "0.2",
         "0"
        ],
        [
         "23",
         "5.1",
         "3.3",
         "1.7",
         "0.5",
         "0"
        ],
        [
         "24",
         "4.8",
         "3.4",
         "1.9",
         "0.2",
         "0"
        ],
        [
         "25",
         "5.0",
         "3.0",
         "1.6",
         "0.2",
         "0"
        ],
        [
         "26",
         "5.0",
         "3.4",
         "1.6",
         "0.4",
         "0"
        ],
        [
         "27",
         "5.2",
         "3.5",
         "1.5",
         "0.2",
         "0"
        ],
        [
         "28",
         "5.2",
         "3.4",
         "1.4",
         "0.2",
         "0"
        ],
        [
         "29",
         "4.7",
         "3.2",
         "1.6",
         "0.2",
         "0"
        ],
        [
         "30",
         "4.8",
         "3.1",
         "1.6",
         "0.2",
         "0"
        ],
        [
         "31",
         "5.4",
         "3.4",
         "1.5",
         "0.4",
         "0"
        ],
        [
         "32",
         "5.2",
         "4.1",
         "1.5",
         "0.1",
         "0"
        ],
        [
         "33",
         "5.5",
         "4.2",
         "1.4",
         "0.2",
         "0"
        ],
        [
         "34",
         "4.9",
         "3.1",
         "1.5",
         "0.2",
         "0"
        ],
        [
         "35",
         "5.0",
         "3.2",
         "1.2",
         "0.2",
         "0"
        ],
        [
         "36",
         "5.5",
         "3.5",
         "1.3",
         "0.2",
         "0"
        ],
        [
         "37",
         "4.9",
         "3.6",
         "1.4",
         "0.1",
         "0"
        ],
        [
         "38",
         "4.4",
         "3.0",
         "1.3",
         "0.2",
         "0"
        ],
        [
         "39",
         "5.1",
         "3.4",
         "1.5",
         "0.2",
         "0"
        ],
        [
         "40",
         "5.0",
         "3.5",
         "1.3",
         "0.3",
         "0"
        ],
        [
         "41",
         "4.5",
         "2.3",
         "1.3",
         "0.3",
         "0"
        ],
        [
         "42",
         "4.4",
         "3.2",
         "1.3",
         "0.2",
         "0"
        ],
        [
         "43",
         "5.0",
         "3.5",
         "1.6",
         "0.6",
         "0"
        ],
        [
         "44",
         "5.1",
         "3.8",
         "1.9",
         "0.4",
         "0"
        ],
        [
         "45",
         "4.8",
         "3.0",
         "1.4",
         "0.3",
         "0"
        ],
        [
         "46",
         "5.1",
         "3.8",
         "1.6",
         "0.2",
         "0"
        ],
        [
         "47",
         "4.6",
         "3.2",
         "1.4",
         "0.2",
         "0"
        ],
        [
         "48",
         "5.3",
         "3.7",
         "1.5",
         "0.2",
         "0"
        ],
        [
         "49",
         "5.0",
         "3.3",
         "1.4",
         "0.2",
         "0"
        ]
       ],
       "shape": {
        "columns": 5,
        "rows": 150
       }
      },
      "text/html": [
       "<div>\n",
       "<style scoped>\n",
       "    .dataframe tbody tr th:only-of-type {\n",
       "        vertical-align: middle;\n",
       "    }\n",
       "\n",
       "    .dataframe tbody tr th {\n",
       "        vertical-align: top;\n",
       "    }\n",
       "\n",
       "    .dataframe thead th {\n",
       "        text-align: right;\n",
       "    }\n",
       "</style>\n",
       "<table border=\"1\" class=\"dataframe\">\n",
       "  <thead>\n",
       "    <tr style=\"text-align: right;\">\n",
       "      <th></th>\n",
       "      <th>sepal length (cm)</th>\n",
       "      <th>sepal width (cm)</th>\n",
       "      <th>petal length (cm)</th>\n",
       "      <th>petal width (cm)</th>\n",
       "      <th>encoded_target</th>\n",
       "    </tr>\n",
       "  </thead>\n",
       "  <tbody>\n",
       "    <tr>\n",
       "      <th>0</th>\n",
       "      <td>-999</td>\n",
       "      <td>-999.0</td>\n",
       "      <td>-999.0</td>\n",
       "      <td>2.000000e-01</td>\n",
       "      <td>0</td>\n",
       "    </tr>\n",
       "    <tr>\n",
       "      <th>1</th>\n",
       "      <td>-999</td>\n",
       "      <td>3.0</td>\n",
       "      <td>1.4</td>\n",
       "      <td>2.000000e-01</td>\n",
       "      <td>0</td>\n",
       "    </tr>\n",
       "    <tr>\n",
       "      <th>2</th>\n",
       "      <td>4.7</td>\n",
       "      <td>3.2</td>\n",
       "      <td>1.3</td>\n",
       "      <td>2.000000e-01</td>\n",
       "      <td>0</td>\n",
       "    </tr>\n",
       "    <tr>\n",
       "      <th>3</th>\n",
       "      <td>cancanqnqwe</td>\n",
       "      <td>3.1</td>\n",
       "      <td>1.5</td>\n",
       "      <td>-1.000000e+12</td>\n",
       "      <td>0</td>\n",
       "    </tr>\n",
       "    <tr>\n",
       "      <th>4</th>\n",
       "      <td>5.0</td>\n",
       "      <td>3.6</td>\n",
       "      <td>1.4</td>\n",
       "      <td>-9.990000e+02</td>\n",
       "      <td>0</td>\n",
       "    </tr>\n",
       "    <tr>\n",
       "      <th>...</th>\n",
       "      <td>...</td>\n",
       "      <td>...</td>\n",
       "      <td>...</td>\n",
       "      <td>...</td>\n",
       "      <td>...</td>\n",
       "    </tr>\n",
       "    <tr>\n",
       "      <th>145</th>\n",
       "      <td>6.7</td>\n",
       "      <td>3.0</td>\n",
       "      <td>5.2</td>\n",
       "      <td>2.300000e+00</td>\n",
       "      <td>2</td>\n",
       "    </tr>\n",
       "    <tr>\n",
       "      <th>146</th>\n",
       "      <td>6.3</td>\n",
       "      <td>2.5</td>\n",
       "      <td>5.0</td>\n",
       "      <td>1.900000e+00</td>\n",
       "      <td>2</td>\n",
       "    </tr>\n",
       "    <tr>\n",
       "      <th>147</th>\n",
       "      <td>6.5</td>\n",
       "      <td>3.0</td>\n",
       "      <td>5.2</td>\n",
       "      <td>2.000000e+00</td>\n",
       "      <td>2</td>\n",
       "    </tr>\n",
       "    <tr>\n",
       "      <th>148</th>\n",
       "      <td>6.2</td>\n",
       "      <td>3.4</td>\n",
       "      <td>5.4</td>\n",
       "      <td>2.300000e+00</td>\n",
       "      <td>2</td>\n",
       "    </tr>\n",
       "    <tr>\n",
       "      <th>149</th>\n",
       "      <td>5.9</td>\n",
       "      <td>3.0</td>\n",
       "      <td>-999.0</td>\n",
       "      <td>1.800000e+00</td>\n",
       "      <td>2</td>\n",
       "    </tr>\n",
       "  </tbody>\n",
       "</table>\n",
       "<p>150 rows × 5 columns</p>\n",
       "</div>"
      ],
      "text/plain": [
       "    sepal length (cm)  sepal width (cm)  petal length (cm)  petal width (cm)  \\\n",
       "0                -999            -999.0             -999.0      2.000000e-01   \n",
       "1                -999               3.0                1.4      2.000000e-01   \n",
       "2                 4.7               3.2                1.3      2.000000e-01   \n",
       "3         cancanqnqwe               3.1                1.5     -1.000000e+12   \n",
       "4                 5.0               3.6                1.4     -9.990000e+02   \n",
       "..                ...               ...                ...               ...   \n",
       "145               6.7               3.0                5.2      2.300000e+00   \n",
       "146               6.3               2.5                5.0      1.900000e+00   \n",
       "147               6.5               3.0                5.2      2.000000e+00   \n",
       "148               6.2               3.4                5.4      2.300000e+00   \n",
       "149               5.9               3.0             -999.0      1.800000e+00   \n",
       "\n",
       "     encoded_target  \n",
       "0                 0  \n",
       "1                 0  \n",
       "2                 0  \n",
       "3                 0  \n",
       "4                 0  \n",
       "..              ...  \n",
       "145               2  \n",
       "146               2  \n",
       "147               2  \n",
       "148               2  \n",
       "149               2  \n",
       "\n",
       "[150 rows x 5 columns]"
      ]
     },
     "execution_count": 14,
     "metadata": {},
     "output_type": "execute_result"
    }
   ],
   "source": [
    "iris_df_valores_impossiveis = iris_df.fillna(-999)\n",
    "iris_df_valores_impossiveis"
   ]
  },
  {
   "cell_type": "code",
   "execution_count": 15,
   "id": "835f33a0",
   "metadata": {},
   "outputs": [
    {
     "name": "stdout",
     "output_type": "stream",
     "text": [
      "<class 'pandas.core.frame.DataFrame'>\n",
      "RangeIndex: 150 entries, 0 to 149\n",
      "Data columns (total 5 columns):\n",
      " #   Column             Non-Null Count  Dtype  \n",
      "---  ------             --------------  -----  \n",
      " 0   sepal length (cm)  148 non-null    object \n",
      " 1   sepal width (cm)   149 non-null    float64\n",
      " 2   petal length (cm)  148 non-null    float64\n",
      " 3   petal width (cm)   149 non-null    float64\n",
      " 4   encoded_target     150 non-null    int64  \n",
      "dtypes: float64(3), int64(1), object(1)\n",
      "memory usage: 6.0+ KB\n"
     ]
    }
   ],
   "source": [
    "iris_df.info()"
   ]
  },
  {
   "cell_type": "code",
   "execution_count": 16,
   "id": "2cfa74f1",
   "metadata": {},
   "outputs": [
    {
     "data": {
      "text/plain": [
       "array([nan, 4.7, 'cancanqnqwe', 5.0, 5.4, 4.6, 4.4, 4.9, 4.8, 4.3, 5.8,\n",
       "       5.7, 5.1, 5.2, 5.5, 4.5, 5.3, 7.0, 6.4, 6.9, 6.5, 6.3, 6.6, 5.9,\n",
       "       6.0, 6.1, 5.6, 6.7, 6.2, 6.8, 7.1, 7.6, 7.3, 7.2, 7.7, 7.4, 7.9],\n",
       "      dtype=object)"
      ]
     },
     "execution_count": 16,
     "metadata": {},
     "output_type": "execute_result"
    }
   ],
   "source": [
    "iris_df['sepal length (cm)'].unique()"
   ]
  },
  {
   "cell_type": "code",
   "execution_count": 17,
   "id": "8a91101f",
   "metadata": {},
   "outputs": [],
   "source": [
    "iris_df = iris_df[iris_df['sepal length (cm)'] != 'cancanqnqwe'].reset_index(drop=True)"
   ]
  },
  {
   "cell_type": "code",
   "execution_count": 18,
   "id": "c0c9b92a",
   "metadata": {},
   "outputs": [
    {
     "data": {
      "text/plain": [
       "array([nan, 4.7, 5.0, 5.4, 4.6, 4.4, 4.9, 4.8, 4.3, 5.8, 5.7, 5.1, 5.2,\n",
       "       5.5, 4.5, 5.3, 7.0, 6.4, 6.9, 6.5, 6.3, 6.6, 5.9, 6.0, 6.1, 5.6,\n",
       "       6.7, 6.2, 6.8, 7.1, 7.6, 7.3, 7.2, 7.7, 7.4, 7.9], dtype=object)"
      ]
     },
     "execution_count": 18,
     "metadata": {},
     "output_type": "execute_result"
    }
   ],
   "source": [
    "iris_df['sepal length (cm)'].unique()"
   ]
  },
  {
   "cell_type": "code",
   "execution_count": 23,
   "id": "0179c1a6",
   "metadata": {},
   "outputs": [],
   "source": [
    "iris_df.iloc[3, 3] = -9999"
   ]
  },
  {
   "cell_type": "code",
   "execution_count": 24,
   "id": "c2912692",
   "metadata": {},
   "outputs": [
    {
     "data": {
      "text/plain": [
       "array([ 2.000e-01, -9.999e+03,  4.000e-01,  3.000e-01,  1.000e-01,\n",
       "        5.000e-01,  6.000e-01,  1.400e+00,  1.500e+00,  1.300e+00,\n",
       "        1.600e+00,  1.000e+00,  1.100e+00,  1.800e+00,  1.200e+00,\n",
       "        1.700e+00,  2.500e+00,  1.900e+00,  2.100e+00,  2.200e+00,\n",
       "        2.000e+00,  2.400e+00,  2.300e+00])"
      ]
     },
     "execution_count": 24,
     "metadata": {},
     "output_type": "execute_result"
    }
   ],
   "source": [
    "#identificando pontos fora da curva\n",
    "iris_df['petal width (cm)'].unique()"
   ]
  },
  {
   "cell_type": "code",
   "execution_count": 26,
   "id": "3c193db7",
   "metadata": {},
   "outputs": [
    {
     "data": {
      "text/plain": [
       "array([0.2, nan, 0.4, 0.3, 0.1, 0.5, 0.6, 1.4, 1.5, 1.3, 1.6, 1. , 1.1,\n",
       "       1.8, 1.2, 1.7, 2.5, 1.9, 2.1, 2.2, 2. , 2.4, 2.3])"
      ]
     },
     "execution_count": 26,
     "metadata": {},
     "output_type": "execute_result"
    }
   ],
   "source": [
    "iris_df.iloc[3, 3] = None\n",
    "iris_df['petal width (cm)'].unique()"
   ]
  },
  {
   "cell_type": "markdown",
   "id": "919a9389",
   "metadata": {},
   "source": [
    "## Regularização de Dados"
   ]
  },
  {
   "cell_type": "code",
   "execution_count": 27,
   "id": "c6d0da8c",
   "metadata": {},
   "outputs": [],
   "source": [
    "import numpy as np\n",
    "iris_df['artificial'] = np.random.uniform(100, 1000, iris_df.shape[0]).round(2)"
   ]
  },
  {
   "cell_type": "code",
   "execution_count": 28,
   "id": "6ef78676",
   "metadata": {},
   "outputs": [
    {
     "data": {
      "application/vnd.microsoft.datawrangler.viewer.v0+json": {
       "columns": [
        {
         "name": "index",
         "rawType": "int64",
         "type": "integer"
        },
        {
         "name": "sepal length (cm)",
         "rawType": "object",
         "type": "unknown"
        },
        {
         "name": "sepal width (cm)",
         "rawType": "float64",
         "type": "float"
        },
        {
         "name": "petal length (cm)",
         "rawType": "float64",
         "type": "float"
        },
        {
         "name": "petal width (cm)",
         "rawType": "float64",
         "type": "float"
        },
        {
         "name": "encoded_target",
         "rawType": "int64",
         "type": "integer"
        },
        {
         "name": "artificial",
         "rawType": "float64",
         "type": "float"
        }
       ],
       "conversionMethod": "pd.DataFrame",
       "ref": "9db59ea6-11e6-4b94-9a6c-961542557f9f",
       "rows": [
        [
         "0",
         null,
         null,
         null,
         "0.2",
         "0",
         "453.15"
        ],
        [
         "1",
         null,
         "3.0",
         "1.4",
         "0.2",
         "0",
         "485.43"
        ],
        [
         "2",
         "4.7",
         "3.2",
         "1.3",
         "0.2",
         "0",
         "648.93"
        ],
        [
         "3",
         "5.0",
         "3.6",
         "1.4",
         null,
         "0",
         "675.82"
        ],
        [
         "4",
         "5.4",
         "3.9",
         "1.7",
         "0.4",
         "0",
         "765.6"
        ],
        [
         "5",
         "4.6",
         "3.4",
         "1.4",
         "0.3",
         "0",
         "582.94"
        ],
        [
         "6",
         "5.0",
         "3.4",
         "1.5",
         "0.2",
         "0",
         "572.14"
        ],
        [
         "7",
         "4.4",
         "2.9",
         "1.4",
         "0.2",
         "0",
         "351.98"
        ],
        [
         "8",
         "4.9",
         "3.1",
         "1.5",
         "0.1",
         "0",
         "947.67"
        ],
        [
         "9",
         "5.4",
         "3.7",
         "1.5",
         "0.2",
         "0",
         "143.74"
        ],
        [
         "10",
         "4.8",
         "3.4",
         "1.6",
         "0.2",
         "0",
         "250.98"
        ],
        [
         "11",
         "4.8",
         "3.0",
         "1.4",
         "0.1",
         "0",
         "919.1"
        ],
        [
         "12",
         "4.3",
         "3.0",
         "1.1",
         "0.1",
         "0",
         "995.61"
        ],
        [
         "13",
         "5.8",
         "4.0",
         "1.2",
         "0.2",
         "0",
         "413.52"
        ],
        [
         "14",
         "5.7",
         "4.4",
         "1.5",
         "0.4",
         "0",
         "813.12"
        ],
        [
         "15",
         "5.4",
         "3.9",
         "1.3",
         "0.4",
         "0",
         "321.71"
        ],
        [
         "16",
         "5.1",
         "3.5",
         "1.4",
         "0.3",
         "0",
         "554.94"
        ],
        [
         "17",
         "5.7",
         "3.8",
         "1.7",
         "0.3",
         "0",
         "934.66"
        ],
        [
         "18",
         "5.1",
         "3.8",
         "1.5",
         "0.3",
         "0",
         "202.05"
        ],
        [
         "19",
         "5.4",
         "3.4",
         "1.7",
         "0.2",
         "0",
         "427.42"
        ],
        [
         "20",
         "5.1",
         "3.7",
         "1.5",
         "0.4",
         "0",
         "459.74"
        ],
        [
         "21",
         "4.6",
         "3.6",
         "1.0",
         "0.2",
         "0",
         "297.54"
        ],
        [
         "22",
         "5.1",
         "3.3",
         "1.7",
         "0.5",
         "0",
         "415.23"
        ],
        [
         "23",
         "4.8",
         "3.4",
         "1.9",
         "0.2",
         "0",
         "705.78"
        ],
        [
         "24",
         "5.0",
         "3.0",
         "1.6",
         "0.2",
         "0",
         "852.9"
        ],
        [
         "25",
         "5.0",
         "3.4",
         "1.6",
         "0.4",
         "0",
         "348.44"
        ],
        [
         "26",
         "5.2",
         "3.5",
         "1.5",
         "0.2",
         "0",
         "472.39"
        ],
        [
         "27",
         "5.2",
         "3.4",
         "1.4",
         "0.2",
         "0",
         "382.28"
        ],
        [
         "28",
         "4.7",
         "3.2",
         "1.6",
         "0.2",
         "0",
         "306.68"
        ],
        [
         "29",
         "4.8",
         "3.1",
         "1.6",
         "0.2",
         "0",
         "888.42"
        ],
        [
         "30",
         "5.4",
         "3.4",
         "1.5",
         "0.4",
         "0",
         "697.95"
        ],
        [
         "31",
         "5.2",
         "4.1",
         "1.5",
         "0.1",
         "0",
         "758.84"
        ],
        [
         "32",
         "5.5",
         "4.2",
         "1.4",
         "0.2",
         "0",
         "291.8"
        ],
        [
         "33",
         "4.9",
         "3.1",
         "1.5",
         "0.2",
         "0",
         "375.85"
        ],
        [
         "34",
         "5.0",
         "3.2",
         "1.2",
         "0.2",
         "0",
         "935.78"
        ],
        [
         "35",
         "5.5",
         "3.5",
         "1.3",
         "0.2",
         "0",
         "237.96"
        ],
        [
         "36",
         "4.9",
         "3.6",
         "1.4",
         "0.1",
         "0",
         "261.08"
        ],
        [
         "37",
         "4.4",
         "3.0",
         "1.3",
         "0.2",
         "0",
         "123.99"
        ],
        [
         "38",
         "5.1",
         "3.4",
         "1.5",
         "0.2",
         "0",
         "278.21"
        ],
        [
         "39",
         "5.0",
         "3.5",
         "1.3",
         "0.3",
         "0",
         "894.16"
        ],
        [
         "40",
         "4.5",
         "2.3",
         "1.3",
         "0.3",
         "0",
         "252.88"
        ],
        [
         "41",
         "4.4",
         "3.2",
         "1.3",
         "0.2",
         "0",
         "805.97"
        ],
        [
         "42",
         "5.0",
         "3.5",
         "1.6",
         "0.6",
         "0",
         "449.6"
        ],
        [
         "43",
         "5.1",
         "3.8",
         "1.9",
         "0.4",
         "0",
         "490.69"
        ],
        [
         "44",
         "4.8",
         "3.0",
         "1.4",
         "0.3",
         "0",
         "425.52"
        ],
        [
         "45",
         "5.1",
         "3.8",
         "1.6",
         "0.2",
         "0",
         "664.27"
        ],
        [
         "46",
         "4.6",
         "3.2",
         "1.4",
         "0.2",
         "0",
         "730.13"
        ],
        [
         "47",
         "5.3",
         "3.7",
         "1.5",
         "0.2",
         "0",
         "318.7"
        ],
        [
         "48",
         "5.0",
         "3.3",
         "1.4",
         "0.2",
         "0",
         "930.2"
        ],
        [
         "49",
         "7.0",
         "3.2",
         "4.7",
         "1.4",
         "1",
         "566.8"
        ]
       ],
       "shape": {
        "columns": 6,
        "rows": 149
       }
      },
      "text/html": [
       "<div>\n",
       "<style scoped>\n",
       "    .dataframe tbody tr th:only-of-type {\n",
       "        vertical-align: middle;\n",
       "    }\n",
       "\n",
       "    .dataframe tbody tr th {\n",
       "        vertical-align: top;\n",
       "    }\n",
       "\n",
       "    .dataframe thead th {\n",
       "        text-align: right;\n",
       "    }\n",
       "</style>\n",
       "<table border=\"1\" class=\"dataframe\">\n",
       "  <thead>\n",
       "    <tr style=\"text-align: right;\">\n",
       "      <th></th>\n",
       "      <th>sepal length (cm)</th>\n",
       "      <th>sepal width (cm)</th>\n",
       "      <th>petal length (cm)</th>\n",
       "      <th>petal width (cm)</th>\n",
       "      <th>encoded_target</th>\n",
       "      <th>artificial</th>\n",
       "    </tr>\n",
       "  </thead>\n",
       "  <tbody>\n",
       "    <tr>\n",
       "      <th>0</th>\n",
       "      <td>NaN</td>\n",
       "      <td>NaN</td>\n",
       "      <td>NaN</td>\n",
       "      <td>0.2</td>\n",
       "      <td>0</td>\n",
       "      <td>453.15</td>\n",
       "    </tr>\n",
       "    <tr>\n",
       "      <th>1</th>\n",
       "      <td>NaN</td>\n",
       "      <td>3.0</td>\n",
       "      <td>1.4</td>\n",
       "      <td>0.2</td>\n",
       "      <td>0</td>\n",
       "      <td>485.43</td>\n",
       "    </tr>\n",
       "    <tr>\n",
       "      <th>2</th>\n",
       "      <td>4.7</td>\n",
       "      <td>3.2</td>\n",
       "      <td>1.3</td>\n",
       "      <td>0.2</td>\n",
       "      <td>0</td>\n",
       "      <td>648.93</td>\n",
       "    </tr>\n",
       "    <tr>\n",
       "      <th>3</th>\n",
       "      <td>5.0</td>\n",
       "      <td>3.6</td>\n",
       "      <td>1.4</td>\n",
       "      <td>NaN</td>\n",
       "      <td>0</td>\n",
       "      <td>675.82</td>\n",
       "    </tr>\n",
       "    <tr>\n",
       "      <th>4</th>\n",
       "      <td>5.4</td>\n",
       "      <td>3.9</td>\n",
       "      <td>1.7</td>\n",
       "      <td>0.4</td>\n",
       "      <td>0</td>\n",
       "      <td>765.60</td>\n",
       "    </tr>\n",
       "    <tr>\n",
       "      <th>...</th>\n",
       "      <td>...</td>\n",
       "      <td>...</td>\n",
       "      <td>...</td>\n",
       "      <td>...</td>\n",
       "      <td>...</td>\n",
       "      <td>...</td>\n",
       "    </tr>\n",
       "    <tr>\n",
       "      <th>144</th>\n",
       "      <td>6.7</td>\n",
       "      <td>3.0</td>\n",
       "      <td>5.2</td>\n",
       "      <td>2.3</td>\n",
       "      <td>2</td>\n",
       "      <td>574.90</td>\n",
       "    </tr>\n",
       "    <tr>\n",
       "      <th>145</th>\n",
       "      <td>6.3</td>\n",
       "      <td>2.5</td>\n",
       "      <td>5.0</td>\n",
       "      <td>1.9</td>\n",
       "      <td>2</td>\n",
       "      <td>929.01</td>\n",
       "    </tr>\n",
       "    <tr>\n",
       "      <th>146</th>\n",
       "      <td>6.5</td>\n",
       "      <td>3.0</td>\n",
       "      <td>5.2</td>\n",
       "      <td>2.0</td>\n",
       "      <td>2</td>\n",
       "      <td>558.77</td>\n",
       "    </tr>\n",
       "    <tr>\n",
       "      <th>147</th>\n",
       "      <td>6.2</td>\n",
       "      <td>3.4</td>\n",
       "      <td>5.4</td>\n",
       "      <td>2.3</td>\n",
       "      <td>2</td>\n",
       "      <td>706.49</td>\n",
       "    </tr>\n",
       "    <tr>\n",
       "      <th>148</th>\n",
       "      <td>5.9</td>\n",
       "      <td>3.0</td>\n",
       "      <td>NaN</td>\n",
       "      <td>1.8</td>\n",
       "      <td>2</td>\n",
       "      <td>994.81</td>\n",
       "    </tr>\n",
       "  </tbody>\n",
       "</table>\n",
       "<p>149 rows × 6 columns</p>\n",
       "</div>"
      ],
      "text/plain": [
       "    sepal length (cm)  sepal width (cm)  petal length (cm)  petal width (cm)  \\\n",
       "0                 NaN               NaN                NaN               0.2   \n",
       "1                 NaN               3.0                1.4               0.2   \n",
       "2                 4.7               3.2                1.3               0.2   \n",
       "3                 5.0               3.6                1.4               NaN   \n",
       "4                 5.4               3.9                1.7               0.4   \n",
       "..                ...               ...                ...               ...   \n",
       "144               6.7               3.0                5.2               2.3   \n",
       "145               6.3               2.5                5.0               1.9   \n",
       "146               6.5               3.0                5.2               2.0   \n",
       "147               6.2               3.4                5.4               2.3   \n",
       "148               5.9               3.0                NaN               1.8   \n",
       "\n",
       "     encoded_target  artificial  \n",
       "0                 0      453.15  \n",
       "1                 0      485.43  \n",
       "2                 0      648.93  \n",
       "3                 0      675.82  \n",
       "4                 0      765.60  \n",
       "..              ...         ...  \n",
       "144               2      574.90  \n",
       "145               2      929.01  \n",
       "146               2      558.77  \n",
       "147               2      706.49  \n",
       "148               2      994.81  \n",
       "\n",
       "[149 rows x 6 columns]"
      ]
     },
     "execution_count": 28,
     "metadata": {},
     "output_type": "execute_result"
    }
   ],
   "source": [
    "iris_df"
   ]
  },
  {
   "cell_type": "code",
   "execution_count": 29,
   "id": "faa97192",
   "metadata": {},
   "outputs": [
    {
     "name": "stdout",
     "output_type": "stream",
     "text": [
      "MinMaxScaler()\n"
     ]
    }
   ],
   "source": [
    "from sklearn.preprocessing import MinMaxScaler\n",
    "scaler = MinMaxScaler()\n",
    "print(scaler.fit(iris_df))\n",
    "novo_iris_df = scaler.transform(iris_df)"
   ]
  },
  {
   "cell_type": "code",
   "execution_count": 30,
   "id": "c3d3c159",
   "metadata": {},
   "outputs": [],
   "source": [
    "novo_iris_df = pd.DataFrame(novo_iris_df, columns=iris_df.columns).round(2)"
   ]
  },
  {
   "cell_type": "code",
   "execution_count": 31,
   "id": "722db8c1",
   "metadata": {},
   "outputs": [
    {
     "data": {
      "application/vnd.microsoft.datawrangler.viewer.v0+json": {
       "columns": [
        {
         "name": "index",
         "rawType": "int64",
         "type": "integer"
        },
        {
         "name": "sepal length (cm)",
         "rawType": "float64",
         "type": "float"
        },
        {
         "name": "sepal width (cm)",
         "rawType": "float64",
         "type": "float"
        },
        {
         "name": "petal length (cm)",
         "rawType": "float64",
         "type": "float"
        },
        {
         "name": "petal width (cm)",
         "rawType": "float64",
         "type": "float"
        },
        {
         "name": "encoded_target",
         "rawType": "float64",
         "type": "float"
        },
        {
         "name": "artificial",
         "rawType": "float64",
         "type": "float"
        }
       ],
       "conversionMethod": "pd.DataFrame",
       "ref": "909f427b-b609-49b5-8bcb-2eb61912e99c",
       "rows": [
        [
         "0",
         null,
         null,
         null,
         "0.04",
         "0.0",
         "0.39"
        ],
        [
         "1",
         null,
         "0.42",
         "0.07",
         "0.04",
         "0.0",
         "0.43"
        ],
        [
         "2",
         "0.11",
         "0.5",
         "0.05",
         "0.04",
         "0.0",
         "0.61"
        ],
        [
         "3",
         "0.19",
         "0.67",
         "0.07",
         null,
         "0.0",
         "0.64"
        ],
        [
         "4",
         "0.31",
         "0.79",
         "0.12",
         "0.12",
         "0.0",
         "0.74"
        ],
        [
         "5",
         "0.08",
         "0.58",
         "0.07",
         "0.08",
         "0.0",
         "0.54"
        ],
        [
         "6",
         "0.19",
         "0.58",
         "0.08",
         "0.04",
         "0.0",
         "0.53"
        ],
        [
         "7",
         "0.03",
         "0.38",
         "0.07",
         "0.04",
         "0.0",
         "0.28"
        ],
        [
         "8",
         "0.17",
         "0.46",
         "0.08",
         "0.0",
         "0.0",
         "0.95"
        ],
        [
         "9",
         "0.31",
         "0.71",
         "0.08",
         "0.04",
         "0.0",
         "0.05"
        ],
        [
         "10",
         "0.14",
         "0.58",
         "0.1",
         "0.04",
         "0.0",
         "0.17"
        ],
        [
         "11",
         "0.14",
         "0.42",
         "0.07",
         "0.0",
         "0.0",
         "0.91"
        ],
        [
         "12",
         "0.0",
         "0.42",
         "0.02",
         "0.0",
         "0.0",
         "1.0"
        ],
        [
         "13",
         "0.42",
         "0.83",
         "0.03",
         "0.04",
         "0.0",
         "0.35"
        ],
        [
         "14",
         "0.39",
         "1.0",
         "0.08",
         "0.12",
         "0.0",
         "0.8"
        ],
        [
         "15",
         "0.31",
         "0.79",
         "0.05",
         "0.12",
         "0.0",
         "0.25"
        ],
        [
         "16",
         "0.22",
         "0.62",
         "0.07",
         "0.08",
         "0.0",
         "0.51"
        ],
        [
         "17",
         "0.39",
         "0.75",
         "0.12",
         "0.08",
         "0.0",
         "0.93"
        ],
        [
         "18",
         "0.22",
         "0.75",
         "0.08",
         "0.08",
         "0.0",
         "0.11"
        ],
        [
         "19",
         "0.31",
         "0.58",
         "0.12",
         "0.04",
         "0.0",
         "0.37"
        ],
        [
         "20",
         "0.22",
         "0.71",
         "0.08",
         "0.12",
         "0.0",
         "0.4"
        ],
        [
         "21",
         "0.08",
         "0.67",
         "0.0",
         "0.04",
         "0.0",
         "0.22"
        ],
        [
         "22",
         "0.22",
         "0.54",
         "0.12",
         "0.17",
         "0.0",
         "0.35"
        ],
        [
         "23",
         "0.14",
         "0.58",
         "0.15",
         "0.04",
         "0.0",
         "0.68"
        ],
        [
         "24",
         "0.19",
         "0.42",
         "0.1",
         "0.04",
         "0.0",
         "0.84"
        ],
        [
         "25",
         "0.19",
         "0.58",
         "0.1",
         "0.12",
         "0.0",
         "0.28"
        ],
        [
         "26",
         "0.25",
         "0.62",
         "0.08",
         "0.04",
         "0.0",
         "0.42"
        ],
        [
         "27",
         "0.25",
         "0.58",
         "0.07",
         "0.04",
         "0.0",
         "0.31"
        ],
        [
         "28",
         "0.11",
         "0.5",
         "0.1",
         "0.04",
         "0.0",
         "0.23"
        ],
        [
         "29",
         "0.14",
         "0.46",
         "0.1",
         "0.04",
         "0.0",
         "0.88"
        ],
        [
         "30",
         "0.31",
         "0.58",
         "0.08",
         "0.12",
         "0.0",
         "0.67"
        ],
        [
         "31",
         "0.25",
         "0.87",
         "0.08",
         "0.0",
         "0.0",
         "0.74"
        ],
        [
         "32",
         "0.33",
         "0.92",
         "0.07",
         "0.04",
         "0.0",
         "0.21"
        ],
        [
         "33",
         "0.17",
         "0.46",
         "0.08",
         "0.04",
         "0.0",
         "0.31"
        ],
        [
         "34",
         "0.19",
         "0.5",
         "0.03",
         "0.04",
         "0.0",
         "0.93"
        ],
        [
         "35",
         "0.33",
         "0.62",
         "0.05",
         "0.04",
         "0.0",
         "0.15"
        ],
        [
         "36",
         "0.17",
         "0.67",
         "0.07",
         "0.0",
         "0.0",
         "0.18"
        ],
        [
         "37",
         "0.03",
         "0.42",
         "0.05",
         "0.04",
         "0.0",
         "0.03"
        ],
        [
         "38",
         "0.22",
         "0.58",
         "0.08",
         "0.04",
         "0.0",
         "0.2"
        ],
        [
         "39",
         "0.19",
         "0.62",
         "0.05",
         "0.08",
         "0.0",
         "0.89"
        ],
        [
         "40",
         "0.06",
         "0.12",
         "0.05",
         "0.08",
         "0.0",
         "0.17"
        ],
        [
         "41",
         "0.03",
         "0.5",
         "0.05",
         "0.04",
         "0.0",
         "0.79"
        ],
        [
         "42",
         "0.19",
         "0.62",
         "0.1",
         "0.21",
         "0.0",
         "0.39"
        ],
        [
         "43",
         "0.22",
         "0.75",
         "0.15",
         "0.12",
         "0.0",
         "0.44"
        ],
        [
         "44",
         "0.14",
         "0.42",
         "0.07",
         "0.08",
         "0.0",
         "0.36"
        ],
        [
         "45",
         "0.22",
         "0.75",
         "0.1",
         "0.04",
         "0.0",
         "0.63"
        ],
        [
         "46",
         "0.08",
         "0.5",
         "0.07",
         "0.04",
         "0.0",
         "0.7"
        ],
        [
         "47",
         "0.28",
         "0.71",
         "0.08",
         "0.04",
         "0.0",
         "0.24"
        ],
        [
         "48",
         "0.19",
         "0.54",
         "0.07",
         "0.04",
         "0.0",
         "0.93"
        ],
        [
         "49",
         "0.75",
         "0.5",
         "0.63",
         "0.54",
         "0.5",
         "0.52"
        ]
       ],
       "shape": {
        "columns": 6,
        "rows": 149
       }
      },
      "text/html": [
       "<div>\n",
       "<style scoped>\n",
       "    .dataframe tbody tr th:only-of-type {\n",
       "        vertical-align: middle;\n",
       "    }\n",
       "\n",
       "    .dataframe tbody tr th {\n",
       "        vertical-align: top;\n",
       "    }\n",
       "\n",
       "    .dataframe thead th {\n",
       "        text-align: right;\n",
       "    }\n",
       "</style>\n",
       "<table border=\"1\" class=\"dataframe\">\n",
       "  <thead>\n",
       "    <tr style=\"text-align: right;\">\n",
       "      <th></th>\n",
       "      <th>sepal length (cm)</th>\n",
       "      <th>sepal width (cm)</th>\n",
       "      <th>petal length (cm)</th>\n",
       "      <th>petal width (cm)</th>\n",
       "      <th>encoded_target</th>\n",
       "      <th>artificial</th>\n",
       "    </tr>\n",
       "  </thead>\n",
       "  <tbody>\n",
       "    <tr>\n",
       "      <th>0</th>\n",
       "      <td>NaN</td>\n",
       "      <td>NaN</td>\n",
       "      <td>NaN</td>\n",
       "      <td>0.04</td>\n",
       "      <td>0.0</td>\n",
       "      <td>0.39</td>\n",
       "    </tr>\n",
       "    <tr>\n",
       "      <th>1</th>\n",
       "      <td>NaN</td>\n",
       "      <td>0.42</td>\n",
       "      <td>0.07</td>\n",
       "      <td>0.04</td>\n",
       "      <td>0.0</td>\n",
       "      <td>0.43</td>\n",
       "    </tr>\n",
       "    <tr>\n",
       "      <th>2</th>\n",
       "      <td>0.11</td>\n",
       "      <td>0.50</td>\n",
       "      <td>0.05</td>\n",
       "      <td>0.04</td>\n",
       "      <td>0.0</td>\n",
       "      <td>0.61</td>\n",
       "    </tr>\n",
       "    <tr>\n",
       "      <th>3</th>\n",
       "      <td>0.19</td>\n",
       "      <td>0.67</td>\n",
       "      <td>0.07</td>\n",
       "      <td>NaN</td>\n",
       "      <td>0.0</td>\n",
       "      <td>0.64</td>\n",
       "    </tr>\n",
       "    <tr>\n",
       "      <th>4</th>\n",
       "      <td>0.31</td>\n",
       "      <td>0.79</td>\n",
       "      <td>0.12</td>\n",
       "      <td>0.12</td>\n",
       "      <td>0.0</td>\n",
       "      <td>0.74</td>\n",
       "    </tr>\n",
       "    <tr>\n",
       "      <th>...</th>\n",
       "      <td>...</td>\n",
       "      <td>...</td>\n",
       "      <td>...</td>\n",
       "      <td>...</td>\n",
       "      <td>...</td>\n",
       "      <td>...</td>\n",
       "    </tr>\n",
       "    <tr>\n",
       "      <th>144</th>\n",
       "      <td>0.67</td>\n",
       "      <td>0.42</td>\n",
       "      <td>0.71</td>\n",
       "      <td>0.92</td>\n",
       "      <td>1.0</td>\n",
       "      <td>0.53</td>\n",
       "    </tr>\n",
       "    <tr>\n",
       "      <th>145</th>\n",
       "      <td>0.56</td>\n",
       "      <td>0.21</td>\n",
       "      <td>0.68</td>\n",
       "      <td>0.75</td>\n",
       "      <td>1.0</td>\n",
       "      <td>0.93</td>\n",
       "    </tr>\n",
       "    <tr>\n",
       "      <th>146</th>\n",
       "      <td>0.61</td>\n",
       "      <td>0.42</td>\n",
       "      <td>0.71</td>\n",
       "      <td>0.79</td>\n",
       "      <td>1.0</td>\n",
       "      <td>0.51</td>\n",
       "    </tr>\n",
       "    <tr>\n",
       "      <th>147</th>\n",
       "      <td>0.53</td>\n",
       "      <td>0.58</td>\n",
       "      <td>0.75</td>\n",
       "      <td>0.92</td>\n",
       "      <td>1.0</td>\n",
       "      <td>0.68</td>\n",
       "    </tr>\n",
       "    <tr>\n",
       "      <th>148</th>\n",
       "      <td>0.44</td>\n",
       "      <td>0.42</td>\n",
       "      <td>NaN</td>\n",
       "      <td>0.71</td>\n",
       "      <td>1.0</td>\n",
       "      <td>1.00</td>\n",
       "    </tr>\n",
       "  </tbody>\n",
       "</table>\n",
       "<p>149 rows × 6 columns</p>\n",
       "</div>"
      ],
      "text/plain": [
       "     sepal length (cm)  sepal width (cm)  petal length (cm)  petal width (cm)  \\\n",
       "0                  NaN               NaN                NaN              0.04   \n",
       "1                  NaN              0.42               0.07              0.04   \n",
       "2                 0.11              0.50               0.05              0.04   \n",
       "3                 0.19              0.67               0.07               NaN   \n",
       "4                 0.31              0.79               0.12              0.12   \n",
       "..                 ...               ...                ...               ...   \n",
       "144               0.67              0.42               0.71              0.92   \n",
       "145               0.56              0.21               0.68              0.75   \n",
       "146               0.61              0.42               0.71              0.79   \n",
       "147               0.53              0.58               0.75              0.92   \n",
       "148               0.44              0.42                NaN              0.71   \n",
       "\n",
       "     encoded_target  artificial  \n",
       "0               0.0        0.39  \n",
       "1               0.0        0.43  \n",
       "2               0.0        0.61  \n",
       "3               0.0        0.64  \n",
       "4               0.0        0.74  \n",
       "..              ...         ...  \n",
       "144             1.0        0.53  \n",
       "145             1.0        0.93  \n",
       "146             1.0        0.51  \n",
       "147             1.0        0.68  \n",
       "148             1.0        1.00  \n",
       "\n",
       "[149 rows x 6 columns]"
      ]
     },
     "execution_count": 31,
     "metadata": {},
     "output_type": "execute_result"
    }
   ],
   "source": [
    "novo_iris_df"
   ]
  },
  {
   "cell_type": "code",
   "execution_count": 32,
   "id": "1af6518e",
   "metadata": {},
   "outputs": [
    {
     "data": {
      "text/plain": [
       "array([0. , 0.5, 1. ])"
      ]
     },
     "execution_count": 32,
     "metadata": {},
     "output_type": "execute_result"
    }
   ],
   "source": [
    "novo_iris_df['encoded_target'].unique()"
   ]
  },
  {
   "cell_type": "code",
   "execution_count": 33,
   "id": "caa94231",
   "metadata": {},
   "outputs": [
    {
     "data": {
      "text/plain": [
       "array([0.04,  nan, 0.12, 0.08, 0.  , 0.17, 0.21, 0.54, 0.58, 0.5 , 0.63,\n",
       "       0.38, 0.42, 0.71, 0.46, 0.67, 1.  , 0.75, 0.83, 0.88, 0.79, 0.96,\n",
       "       0.92])"
      ]
     },
     "execution_count": 33,
     "metadata": {},
     "output_type": "execute_result"
    }
   ],
   "source": [
    "novo_iris_df['petal width (cm)'].unique()"
   ]
  },
  {
   "cell_type": "code",
   "execution_count": 34,
   "id": "2e8cfbed",
   "metadata": {},
   "outputs": [
    {
     "data": {
      "text/plain": [
       "array([0.39, 0.43, 0.61, 0.64, 0.74, 0.54, 0.53, 0.28, 0.95, 0.05, 0.17,\n",
       "       0.91, 1.  , 0.35, 0.8 , 0.25, 0.51, 0.93, 0.11, 0.37, 0.4 , 0.22,\n",
       "       0.68, 0.84, 0.42, 0.31, 0.23, 0.88, 0.67, 0.21, 0.15, 0.18, 0.03,\n",
       "       0.2 , 0.89, 0.79, 0.44, 0.36, 0.63, 0.7 , 0.24, 0.52, 0.75, 0.56,\n",
       "       0.49, 0.81, 0.46, 0.76, 0.13, 0.73, 0.08, 0.27, 0.09, 0.97, 0.5 ,\n",
       "       0.  , 0.07, 0.26, 0.66, 0.01, 0.65, 0.78, 0.12, 0.72, 0.99, 0.86,\n",
       "       0.71, 0.87, 0.6 , 0.1 , 0.69, 0.3 , 0.33, 0.55, 0.14, 0.57, 0.45,\n",
       "       0.9 , 0.02, 0.83, 0.19])"
      ]
     },
     "execution_count": 34,
     "metadata": {},
     "output_type": "execute_result"
    }
   ],
   "source": [
    "novo_iris_df['artificial'].unique()"
   ]
  }
 ],
 "metadata": {
  "kernelspec": {
   "display_name": "venv",
   "language": "python",
   "name": "python3"
  },
  "language_info": {
   "codemirror_mode": {
    "name": "ipython",
    "version": 3
   },
   "file_extension": ".py",
   "mimetype": "text/x-python",
   "name": "python",
   "nbconvert_exporter": "python",
   "pygments_lexer": "ipython3",
   "version": "3.12.3"
  }
 },
 "nbformat": 4,
 "nbformat_minor": 5
}
