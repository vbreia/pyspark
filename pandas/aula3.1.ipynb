{
 "cells": [
  {
   "cell_type": "markdown",
   "id": "656aee34",
   "metadata": {},
   "source": [
    "# Manipulação de dados "
   ]
  },
  {
   "cell_type": "code",
   "execution_count": 1,
   "id": "4b3cff99",
   "metadata": {},
   "outputs": [],
   "source": [
    "import pandas as pd\n",
    "json_array=[ {'a':1,'b':2}, {'a':3,'b':4}, {'a':5,'b':6} ] \n",
    "df = pd.DataFrame(json_array)"
   ]
  },
  {
   "cell_type": "markdown",
   "id": "e4241076",
   "metadata": {},
   "source": [
    "- .info() = mostra informações sobre o DataFrame\n",
    "- .describe() = mostra estatísticas descritivas\n",
    "- .head() = mostra as 5 primeiras linhas do DataFrame\n",
    "- .tail() = mostra as 5 últimas linhas do DataFrame\n",
    "- .shape = mostra o número de linhas e colunas do DataFrame\n",
    "- .columns = mostra os nomes das colunas do DataFrame\n",
    "- .index = mostra os índices do DataFrame"
   ]
  },
  {
   "cell_type": "code",
   "execution_count": 2,
   "id": "52eaf7c6",
   "metadata": {},
   "outputs": [
    {
     "name": "stdout",
     "output_type": "stream",
     "text": [
      "<class 'pandas.core.frame.DataFrame'>\n",
      "RangeIndex: 3 entries, 0 to 2\n",
      "Data columns (total 2 columns):\n",
      " #   Column  Non-Null Count  Dtype\n",
      "---  ------  --------------  -----\n",
      " 0   a       3 non-null      int64\n",
      " 1   b       3 non-null      int64\n",
      "dtypes: int64(2)\n",
      "memory usage: 180.0 bytes\n"
     ]
    }
   ],
   "source": [
    "df.info() # df.info() – exibe informações sobre o DataFrame"
   ]
  },
  {
   "cell_type": "code",
   "execution_count": 3,
   "id": "aa1af7b9",
   "metadata": {},
   "outputs": [
    {
     "data": {
      "application/vnd.microsoft.datawrangler.viewer.v0+json": {
       "columns": [
        {
         "name": "index",
         "rawType": "object",
         "type": "string"
        },
        {
         "name": "a",
         "rawType": "float64",
         "type": "float"
        },
        {
         "name": "b",
         "rawType": "float64",
         "type": "float"
        }
       ],
       "conversionMethod": "pd.DataFrame",
       "ref": "72719284-efcc-4dee-abc8-fed3c5bd4364",
       "rows": [
        [
         "count",
         "3.0",
         "3.0"
        ],
        [
         "mean",
         "3.0",
         "4.0"
        ],
        [
         "std",
         "2.0",
         "2.0"
        ],
        [
         "min",
         "1.0",
         "2.0"
        ],
        [
         "25%",
         "2.0",
         "3.0"
        ],
        [
         "50%",
         "3.0",
         "4.0"
        ],
        [
         "75%",
         "4.0",
         "5.0"
        ],
        [
         "max",
         "5.0",
         "6.0"
        ]
       ],
       "shape": {
        "columns": 2,
        "rows": 8
       }
      },
      "text/html": [
       "<div>\n",
       "<style scoped>\n",
       "    .dataframe tbody tr th:only-of-type {\n",
       "        vertical-align: middle;\n",
       "    }\n",
       "\n",
       "    .dataframe tbody tr th {\n",
       "        vertical-align: top;\n",
       "    }\n",
       "\n",
       "    .dataframe thead th {\n",
       "        text-align: right;\n",
       "    }\n",
       "</style>\n",
       "<table border=\"1\" class=\"dataframe\">\n",
       "  <thead>\n",
       "    <tr style=\"text-align: right;\">\n",
       "      <th></th>\n",
       "      <th>a</th>\n",
       "      <th>b</th>\n",
       "    </tr>\n",
       "  </thead>\n",
       "  <tbody>\n",
       "    <tr>\n",
       "      <th>count</th>\n",
       "      <td>3.0</td>\n",
       "      <td>3.0</td>\n",
       "    </tr>\n",
       "    <tr>\n",
       "      <th>mean</th>\n",
       "      <td>3.0</td>\n",
       "      <td>4.0</td>\n",
       "    </tr>\n",
       "    <tr>\n",
       "      <th>std</th>\n",
       "      <td>2.0</td>\n",
       "      <td>2.0</td>\n",
       "    </tr>\n",
       "    <tr>\n",
       "      <th>min</th>\n",
       "      <td>1.0</td>\n",
       "      <td>2.0</td>\n",
       "    </tr>\n",
       "    <tr>\n",
       "      <th>25%</th>\n",
       "      <td>2.0</td>\n",
       "      <td>3.0</td>\n",
       "    </tr>\n",
       "    <tr>\n",
       "      <th>50%</th>\n",
       "      <td>3.0</td>\n",
       "      <td>4.0</td>\n",
       "    </tr>\n",
       "    <tr>\n",
       "      <th>75%</th>\n",
       "      <td>4.0</td>\n",
       "      <td>5.0</td>\n",
       "    </tr>\n",
       "    <tr>\n",
       "      <th>max</th>\n",
       "      <td>5.0</td>\n",
       "      <td>6.0</td>\n",
       "    </tr>\n",
       "  </tbody>\n",
       "</table>\n",
       "</div>"
      ],
      "text/plain": [
       "         a    b\n",
       "count  3.0  3.0\n",
       "mean   3.0  4.0\n",
       "std    2.0  2.0\n",
       "min    1.0  2.0\n",
       "25%    2.0  3.0\n",
       "50%    3.0  4.0\n",
       "75%    4.0  5.0\n",
       "max    5.0  6.0"
      ]
     },
     "execution_count": 3,
     "metadata": {},
     "output_type": "execute_result"
    }
   ],
   "source": [
    "df.describe() # df.describe() – exibe estatísticas descritivas do DataFrame\n"
   ]
  },
  {
   "cell_type": "code",
   "execution_count": 4,
   "id": "b0f00fe2",
   "metadata": {},
   "outputs": [
    {
     "name": "stdout",
     "output_type": "stream",
     "text": [
      "max_speed    4\n",
      "shield       5\n",
      "Name: viper, dtype: int64\n",
      "            max_speed  shield\n",
      "viper               4       5\n",
      "sidewinder          7       8\n"
     ]
    }
   ],
   "source": [
    "df = pd.DataFrame([[1, 2], [4, 5], [7, 8]],\n",
    "    index=['cobra', 'viper', 'sidewinder'],\n",
    "    columns=['max_speed', 'shield'])\n",
    "print(df.loc['viper'])\n",
    "print(df.loc[['viper', 'sidewinder']])"
   ]
  },
  {
   "cell_type": "markdown",
   "id": "e8f801d0",
   "metadata": {},
   "source": [
    "# Queries\n",
    " - iloc[] = seleciona linhas e colunas por índice\n",
    " - loc[] = seleciona linhas e colunas por rótulo\n",
    " - at[] = seleciona um único valor por rótulo\n",
    " - iat[] = seleciona um único valor por índice"
   ]
  },
  {
   "cell_type": "code",
   "execution_count": 9,
   "id": "f8a6d8aa",
   "metadata": {},
   "outputs": [
    {
     "name": "stdout",
     "output_type": "stream",
     "text": [
      "====================\n",
      "a    1\n",
      "b    2\n",
      "c    3\n",
      "d    4\n",
      "Name: 0, dtype: int64\n",
      "====================\n",
      "   a  b  c  d\n",
      "0  1  2  3  4\n",
      "====================\n",
      "     a    b    c    d\n",
      "0    1    2    3    4\n",
      "1  100  200  300  400\n",
      "====================\n",
      "      a     b     c     d\n",
      "0     1     2     3     4\n",
      "1   100   200   300   400\n",
      "2  1000  2000  3000  4000\n",
      "====================\n",
      "      a     b     c     d\n",
      "0     1     2     3     4\n",
      "2  1000  2000  3000  4000\n",
      "====================\n",
      "      b     d\n",
      "0     2     4\n",
      "2  2000  4000\n",
      "====================\n",
      "      a     b     c\n",
      "1   100   200   300\n",
      "2  1000  2000  3000\n",
      "====================\n"
     ]
    }
   ],
   "source": [
    "mydict = [{'a': 1, 'b': 2, 'c': 3, 'd': 4},\n",
    "        {'a': 100, 'b': 200, 'c': 300, 'd': 400},\n",
    "        {'a': 1000, 'b': 2000, 'c': 3000, 'd': 4000 }]\n",
    "df = pd.DataFrame(mydict)\n",
    "print('=' * 20)\n",
    "print(df.iloc[0])\n",
    "print('=' * 20)\n",
    "print(df.iloc[[0]])\n",
    "print('=' * 20)\n",
    "print(df.iloc[[0, 1]])\n",
    "print('=' * 20)\n",
    "print(df.iloc[:3])\n",
    "print('=' * 20)\n",
    "print(df.iloc[lambda x: x.index % 2 == 0])\n",
    "print('=' * 20)\n",
    "print(df.iloc[[0, 2], [1, 3]])\n",
    "print('=' * 20)\n",
    "print(df.iloc[1:3, 0:3])\n",
    "print('=' * 20)\n"
   ]
  },
  {
   "cell_type": "code",
   "execution_count": 13,
   "id": "de24735e",
   "metadata": {},
   "outputs": [
    {
     "name": "stdout",
     "output_type": "stream",
     "text": [
      "====================\n",
      "   A  B  C\n",
      "4  5  2  6\n",
      "====================\n",
      "Empty DataFrame\n",
      "Columns: [A, B, C]\n",
      "Index: []\n",
      "====================\n",
      "   A  B  C\n",
      "4  5  2  6\n",
      "====================\n"
     ]
    }
   ],
   "source": [
    "df = pd.DataFrame({'A': range(1, 6),'B': range(10, 0, -2),'C': range(10, 5, -1)})\n",
    "print('=' * 20)\n",
    "print(df.query('A > B'))\n",
    "print('=' * 20)\n",
    "print(df.query('B == \"C C\"'))\n",
    "print('=' * 20)\n",
    "print(df[df.A > df.B])\n",
    "print('=' * 20)"
   ]
  },
  {
   "cell_type": "markdown",
   "id": "e4a03a2c",
   "metadata": {},
   "source": [
    "# Concatenando DataFrames\n",
    " - concat() - Concatena DataFrames ao longo de um eixo (0 ou 1)\n",
    " - append() - Adiciona DataFrames ao final de outro DataFrame\n",
    " - join() - Junta DataFrames com base em índices ou colunas\n",
    " - merge() - Mescla DataFrames com base em colunas comuns"
   ]
  },
  {
   "cell_type": "code",
   "execution_count": 14,
   "id": "6fd54acb",
   "metadata": {},
   "outputs": [
    {
     "data": {
      "application/vnd.microsoft.datawrangler.viewer.v0+json": {
       "columns": [
        {
         "name": "index",
         "rawType": "int64",
         "type": "integer"
        },
        {
         "name": "0",
         "rawType": "object",
         "type": "string"
        },
        {
         "name": "1",
         "rawType": "object",
         "type": "string"
        }
       ],
       "conversionMethod": "pd.DataFrame",
       "ref": "3c74dc1b-d99c-43e9-ac16-281a23e45f07",
       "rows": [
        [
         "0",
         "a",
         "c"
        ],
        [
         "1",
         "b",
         "d"
        ]
       ],
       "shape": {
        "columns": 2,
        "rows": 2
       }
      },
      "text/html": [
       "<div>\n",
       "<style scoped>\n",
       "    .dataframe tbody tr th:only-of-type {\n",
       "        vertical-align: middle;\n",
       "    }\n",
       "\n",
       "    .dataframe tbody tr th {\n",
       "        vertical-align: top;\n",
       "    }\n",
       "\n",
       "    .dataframe thead th {\n",
       "        text-align: right;\n",
       "    }\n",
       "</style>\n",
       "<table border=\"1\" class=\"dataframe\">\n",
       "  <thead>\n",
       "    <tr style=\"text-align: right;\">\n",
       "      <th></th>\n",
       "      <th>0</th>\n",
       "      <th>1</th>\n",
       "    </tr>\n",
       "  </thead>\n",
       "  <tbody>\n",
       "    <tr>\n",
       "      <th>0</th>\n",
       "      <td>a</td>\n",
       "      <td>c</td>\n",
       "    </tr>\n",
       "    <tr>\n",
       "      <th>1</th>\n",
       "      <td>b</td>\n",
       "      <td>d</td>\n",
       "    </tr>\n",
       "  </tbody>\n",
       "</table>\n",
       "</div>"
      ],
      "text/plain": [
       "   0  1\n",
       "0  a  c\n",
       "1  b  d"
      ]
     },
     "execution_count": 14,
     "metadata": {},
     "output_type": "execute_result"
    }
   ],
   "source": [
    "s1 = pd.Series(['a', 'b'])\n",
    "s2 = pd.Series(['c', 'd'])\n",
    "pd.concat([s1, s2], axis=1)"
   ]
  },
  {
   "cell_type": "code",
   "execution_count": 15,
   "id": "d7f7392c",
   "metadata": {},
   "outputs": [
    {
     "name": "stdout",
     "output_type": "stream",
     "text": [
      "  lkey  value_left rkey  value_right\n",
      "0  foo           1  foo            5\n",
      "1  foo           1  foo            8\n",
      "2  bar           2  bar            6\n",
      "3  baz           3  baz            7\n",
      "4  foo           5  foo            5\n",
      "5  foo           5  foo            8\n"
     ]
    }
   ],
   "source": [
    "\n",
    "df1 = pd.DataFrame({'lkey': ['foo', 'bar', 'baz', 'foo'],'value': [1, 2, 3, 5]})\n",
    "df2 = pd.DataFrame({'rkey': ['foo', 'bar', 'baz', 'foo'],'value': [5, 6, 7, 8]})\n",
    "print(df1.merge(df2, left_on='lkey', right_on='rkey', suffixes=(\"_left\",\"_right\")))\n"
   ]
  },
  {
   "cell_type": "code",
   "execution_count": 16,
   "id": "74232db0",
   "metadata": {},
   "outputs": [
    {
     "data": {
      "application/vnd.microsoft.datawrangler.viewer.v0+json": {
       "columns": [
        {
         "name": "index",
         "rawType": "int64",
         "type": "integer"
        },
        {
         "name": "key_caller",
         "rawType": "object",
         "type": "string"
        },
        {
         "name": "A",
         "rawType": "object",
         "type": "string"
        },
        {
         "name": "key_other",
         "rawType": "object",
         "type": "unknown"
        },
        {
         "name": "B",
         "rawType": "object",
         "type": "unknown"
        }
       ],
       "conversionMethod": "pd.DataFrame",
       "ref": "9701d5c8-2c47-4ed2-9d8a-f72ec7dd11fb",
       "rows": [
        [
         "0",
         "K0",
         "A0",
         "K0",
         "B0"
        ],
        [
         "1",
         "K1",
         "A1",
         "K1",
         "B1"
        ],
        [
         "2",
         "K2",
         "A2",
         "K2",
         "B2"
        ],
        [
         "3",
         "K3",
         "A3",
         null,
         null
        ],
        [
         "4",
         "K4",
         "A4",
         null,
         null
        ],
        [
         "5",
         "K5",
         "A5",
         null,
         null
        ]
       ],
       "shape": {
        "columns": 4,
        "rows": 6
       }
      },
      "text/html": [
       "<div>\n",
       "<style scoped>\n",
       "    .dataframe tbody tr th:only-of-type {\n",
       "        vertical-align: middle;\n",
       "    }\n",
       "\n",
       "    .dataframe tbody tr th {\n",
       "        vertical-align: top;\n",
       "    }\n",
       "\n",
       "    .dataframe thead th {\n",
       "        text-align: right;\n",
       "    }\n",
       "</style>\n",
       "<table border=\"1\" class=\"dataframe\">\n",
       "  <thead>\n",
       "    <tr style=\"text-align: right;\">\n",
       "      <th></th>\n",
       "      <th>key_caller</th>\n",
       "      <th>A</th>\n",
       "      <th>key_other</th>\n",
       "      <th>B</th>\n",
       "    </tr>\n",
       "  </thead>\n",
       "  <tbody>\n",
       "    <tr>\n",
       "      <th>0</th>\n",
       "      <td>K0</td>\n",
       "      <td>A0</td>\n",
       "      <td>K0</td>\n",
       "      <td>B0</td>\n",
       "    </tr>\n",
       "    <tr>\n",
       "      <th>1</th>\n",
       "      <td>K1</td>\n",
       "      <td>A1</td>\n",
       "      <td>K1</td>\n",
       "      <td>B1</td>\n",
       "    </tr>\n",
       "    <tr>\n",
       "      <th>2</th>\n",
       "      <td>K2</td>\n",
       "      <td>A2</td>\n",
       "      <td>K2</td>\n",
       "      <td>B2</td>\n",
       "    </tr>\n",
       "    <tr>\n",
       "      <th>3</th>\n",
       "      <td>K3</td>\n",
       "      <td>A3</td>\n",
       "      <td>NaN</td>\n",
       "      <td>NaN</td>\n",
       "    </tr>\n",
       "    <tr>\n",
       "      <th>4</th>\n",
       "      <td>K4</td>\n",
       "      <td>A4</td>\n",
       "      <td>NaN</td>\n",
       "      <td>NaN</td>\n",
       "    </tr>\n",
       "    <tr>\n",
       "      <th>5</th>\n",
       "      <td>K5</td>\n",
       "      <td>A5</td>\n",
       "      <td>NaN</td>\n",
       "      <td>NaN</td>\n",
       "    </tr>\n",
       "  </tbody>\n",
       "</table>\n",
       "</div>"
      ],
      "text/plain": [
       "  key_caller   A key_other    B\n",
       "0         K0  A0        K0   B0\n",
       "1         K1  A1        K1   B1\n",
       "2         K2  A2        K2   B2\n",
       "3         K3  A3       NaN  NaN\n",
       "4         K4  A4       NaN  NaN\n",
       "5         K5  A5       NaN  NaN"
      ]
     },
     "execution_count": 16,
     "metadata": {},
     "output_type": "execute_result"
    }
   ],
   "source": [
    "df = pd.DataFrame({'key': ['K0', 'K1', 'K2', 'K3', 'K4', 'K5'],\n",
    "                'A': ['A0', 'A1', 'A2', 'A3', 'A4', 'A5']})\n",
    "other = pd.DataFrame({'key': ['K0', 'K1', 'K2'],\n",
    "                    'B': ['B0', 'B1', 'B2']})\n",
    "df.join(other, lsuffix='_caller', rsuffix='_other')"
   ]
  },
  {
   "cell_type": "markdown",
   "id": "f0178cd0",
   "metadata": {},
   "source": [
    "# Agregação\n",
    " - groupby() - Agrupa dados com base em uma ou mais colunas\n",
    " - agg() - Aplica funções de agregação a grupos\n",
    " - pivot_table() - Cria tabelas dinâmicas para resumir dados\n",
    " - apply() - Aplica funções a grupos ou colunas"
   ]
  },
  {
   "cell_type": "code",
   "execution_count": 20,
   "id": "463c912a",
   "metadata": {},
   "outputs": [
    {
     "name": "stdout",
     "output_type": "stream",
     "text": [
      "        Max Speed\n",
      "Animal           \n",
      "Falcon      375.0\n",
      "Parrot       25.0\n"
     ]
    }
   ],
   "source": [
    "df = pd.DataFrame({'Animal': ['Falcon', 'Falcon','Parrot', 'Parrot'],'Max Speed': [380., 370., 24., 26.]})\n",
    "grouped = df.groupby(['Animal'])\n",
    "print(grouped.mean())"
   ]
  },
  {
   "cell_type": "code",
   "execution_count": 26,
   "id": "5d99dc20",
   "metadata": {},
   "outputs": [
    {
     "name": "stdout",
     "output_type": "stream",
     "text": [
      "     A    B    C\n",
      "0  3.0  3.0  6.0\n",
      "1  3.0  3.0  6.0\n",
      "2  3.0  3.0  6.0\n"
     ]
    }
   ],
   "source": [
    "import numpy as np\n",
    "\n",
    "df = pd.DataFrame([[4, 9]] * 3, columns=['A', 'B'])\n",
    "\n",
    "# Aplicando a raiz quadrada\n",
    "df = df.apply(np.sqrt)\n",
    "df['A'] = df['A'] + 1\n",
    "df['C'] = df.apply(lambda x: x['A'] + x['B'], axis=1)\n",
    "\n",
    "print(df)"
   ]
  }
 ],
 "metadata": {
  "kernelspec": {
   "display_name": "venv",
   "language": "python",
   "name": "python3"
  },
  "language_info": {
   "codemirror_mode": {
    "name": "ipython",
    "version": 3
   },
   "file_extension": ".py",
   "mimetype": "text/x-python",
   "name": "python",
   "nbconvert_exporter": "python",
   "pygments_lexer": "ipython3",
   "version": "3.12.3"
  }
 },
 "nbformat": 4,
 "nbformat_minor": 5
}
