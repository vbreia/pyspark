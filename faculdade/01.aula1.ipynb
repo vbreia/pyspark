{
 "cells": [
  {
   "cell_type": "markdown",
   "metadata": {},
   "source": [
    "#### Import a spark modules "
   ]
  },
  {
   "cell_type": "code",
   "execution_count": 1,
   "metadata": {},
   "outputs": [],
   "source": [
    "from pyspark.sql.types import StructType, StructField, StringType, IntegerType\n",
    "from pyspark.sql import SparkSession"
   ]
  },
  {
   "cell_type": "markdown",
   "metadata": {},
   "source": [
    "#### Set to spark configs\n"
   ]
  },
  {
   "cell_type": "code",
   "execution_count": 2,
   "metadata": {},
   "outputs": [
    {
     "name": "stderr",
     "output_type": "stream",
     "text": [
      "your 131072x1 screen size is bogus. expect trouble\n",
      "25/05/08 16:58:41 WARN Utils: Your hostname, Breia resolves to a loopback address: 127.0.1.1; using 10.255.255.254 instead (on interface lo)\n",
      "25/05/08 16:58:41 WARN Utils: Set SPARK_LOCAL_IP if you need to bind to another address\n",
      "Setting default log level to \"WARN\".\n",
      "To adjust logging level use sc.setLogLevel(newLevel). For SparkR, use setLogLevel(newLevel).\n",
      "25/05/08 16:58:42 WARN NativeCodeLoader: Unable to load native-hadoop library for your platform... using builtin-java classes where applicable\n"
     ]
    }
   ],
   "source": [
    "spark = (\n",
    "    SparkSession\n",
    "    .builder\n",
    "    .master(\"local[*]\")\n",
    "    .appName(\"test\")\n",
    "    .getOrCreate()\n",
    ")"
   ]
  },
  {
   "cell_type": "markdown",
   "metadata": {},
   "source": [
    "#### Create to dataset "
   ]
  },
  {
   "cell_type": "code",
   "execution_count": null,
   "metadata": {},
   "outputs": [
    {
     "name": "stderr",
     "output_type": "stream",
     "text": [
      "25/05/08 16:58:55 WARN GarbageCollectionMetrics: To enable non-built-in garbage collector(s) List(G1 Concurrent GC), users should configure it(them) to spark.eventLog.gcMetrics.youngGenerationGarbageCollectors or spark.eventLog.gcMetrics.oldGenerationGarbageCollectors\n"
     ]
    }
   ],
   "source": [
    "csv_path = './content/sample_data/california_housing.csv'\n",
    "dataset = spark.read.csv(csv_path, inferSchema=True, header=True)\n"
   ]
  },
  {
   "cell_type": "code",
   "execution_count": 4,
   "metadata": {},
   "outputs": [
    {
     "name": "stdout",
     "output_type": "stream",
     "text": [
      "Esquema do Dataset:\n",
      "root\n",
      " |-- longitude: double (nullable = true)\n",
      " |-- latitude: double (nullable = true)\n",
      " |-- housing_median_age: integer (nullable = true)\n",
      " |-- total_rooms: integer (nullable = true)\n",
      " |-- total_bedrooms: integer (nullable = true)\n",
      " |-- population: integer (nullable = true)\n",
      " |-- households: integer (nullable = true)\n",
      " |-- median_income: double (nullable = true)\n",
      " |-- ocean_proximity: string (nullable = true)\n",
      " |-- median_house_value: integer (nullable = true)\n",
      "\n"
     ]
    }
   ],
   "source": [
    "print(\"Esquema do Dataset:\")\n",
    "dataset.printSchema()"
   ]
  },
  {
   "cell_type": "code",
   "execution_count": 5,
   "metadata": {},
   "outputs": [
    {
     "name": "stdout",
     "output_type": "stream",
     "text": [
      "Primeiras linhas do Dataset:\n",
      "+---------+--------+------------------+-----------+--------------+----------+----------+-------------+---------------+------------------+\n",
      "|longitude|latitude|housing_median_age|total_rooms|total_bedrooms|population|households|median_income|ocean_proximity|median_house_value|\n",
      "+---------+--------+------------------+-----------+--------------+----------+----------+-------------+---------------+------------------+\n",
      "|  -122.23|   37.88|                41|        880|           129|       322|       126|       8.3252|       NEAR BAY|            452600|\n",
      "|  -122.22|   37.86|                21|       7099|          1106|      2401|      1138|       8.3014|       NEAR BAY|            358500|\n",
      "|  -122.24|   37.85|                52|       1467|           190|       496|       177|       7.2574|       NEAR BAY|            352100|\n",
      "|  -122.25|   37.85|                52|       1274|           235|       558|       219|       5.6431|       NEAR BAY|            341300|\n",
      "|  -122.25|   37.85|                52|       1627|           280|       565|       259|       3.8462|       NEAR BAY|            342200|\n",
      "+---------+--------+------------------+-----------+--------------+----------+----------+-------------+---------------+------------------+\n",
      "only showing top 5 rows\n",
      "\n"
     ]
    }
   ],
   "source": [
    "print(\"Primeiras linhas do Dataset:\")\n",
    "dataset.show(5)"
   ]
  },
  {
   "cell_type": "code",
   "execution_count": 6,
   "metadata": {},
   "outputs": [],
   "source": [
    "spark.stop()"
   ]
  }
 ],
 "metadata": {
  "kernelspec": {
   "display_name": "venv",
   "language": "python",
   "name": "python3"
  },
  "language_info": {
   "codemirror_mode": {
    "name": "ipython",
    "version": 3
   },
   "file_extension": ".py",
   "mimetype": "text/x-python",
   "name": "python",
   "nbconvert_exporter": "python",
   "pygments_lexer": "ipython3",
   "version": "3.12.3"
  }
 },
 "nbformat": 4,
 "nbformat_minor": 2
}
