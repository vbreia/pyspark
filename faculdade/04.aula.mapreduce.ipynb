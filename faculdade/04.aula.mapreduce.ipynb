{
 "cells": [
  {
   "cell_type": "code",
   "execution_count": 1,
   "id": "c35b3e7c",
   "metadata": {},
   "outputs": [
    {
     "name": "stderr",
     "output_type": "stream",
     "text": [
      "your 131072x1 screen size is bogus. expect trouble\n",
      "25/05/08 17:32:44 WARN Utils: Your hostname, Breia resolves to a loopback address: 127.0.1.1; using 10.255.255.254 instead (on interface lo)\n",
      "25/05/08 17:32:44 WARN Utils: Set SPARK_LOCAL_IP if you need to bind to another address\n",
      "Setting default log level to \"WARN\".\n",
      "To adjust logging level use sc.setLogLevel(newLevel). For SparkR, use setLogLevel(newLevel).\n",
      "25/05/08 17:32:45 WARN NativeCodeLoader: Unable to load native-hadoop library for your platform... using builtin-java classes where applicable\n"
     ]
    }
   ],
   "source": [
    "from pyspark import SparkContext\n",
    "spark_contexto = SparkContext()"
   ]
  },
  {
   "cell_type": "code",
   "execution_count": 2,
   "id": "07ff9062",
   "metadata": {},
   "outputs": [],
   "source": [
    "import numpy as np\n",
    "vetor = np.array([10, 20, 30, 40, 50])"
   ]
  },
  {
   "cell_type": "code",
   "execution_count": 3,
   "id": "b95cbbe9",
   "metadata": {},
   "outputs": [],
   "source": [
    "paralelo = spark_contexto.parallelize(vetor)"
   ]
  },
  {
   "cell_type": "code",
   "execution_count": 4,
   "id": "944214a3",
   "metadata": {},
   "outputs": [
    {
     "name": "stdout",
     "output_type": "stream",
     "text": [
      "ParallelCollectionRDD[0] at readRDDFromFile at PythonRDD.scala:289\n"
     ]
    }
   ],
   "source": [
    "print(paralelo)"
   ]
  },
  {
   "cell_type": "markdown",
   "id": "4f290b8a",
   "metadata": {},
   "source": [
    "f(x)x** + x"
   ]
  },
  {
   "cell_type": "code",
   "execution_count": 5,
   "id": "121f13ae",
   "metadata": {},
   "outputs": [],
   "source": [
    "mapa = paralelo.map(lambda x : x**2+x)"
   ]
  },
  {
   "cell_type": "code",
   "execution_count": null,
   "id": "b2e40fed",
   "metadata": {},
   "outputs": [
    {
     "name": "stdout",
     "output_type": "stream",
     "text": [
      "[110, 420, 930, 1640, 2550]\n"
     ]
    }
   ],
   "source": [
    "lista = mapa.collect()\n",
    "\n",
    "# transformando os elementos do tipo numpy.int64 para int para ter uma lista de inteiros\n",
    "lista = [int(x) for x in lista]\n",
    "print(lista)"
   ]
  },
  {
   "cell_type": "code",
   "execution_count": null,
   "id": "de947d9f",
   "metadata": {},
   "outputs": [
    {
     "name": "stdout",
     "output_type": "stream",
     "text": [
      "5650\n"
     ]
    }
   ],
   "source": [
    "from functools import reduce\n",
    "from operator import add\n",
    "\n",
    "soma = reduce(add, lista)\n",
    "print(soma)"
   ]
  },
  {
   "cell_type": "markdown",
   "id": "ff5b9cd1",
   "metadata": {},
   "source": [
    "## LISTAS"
   ]
  },
  {
   "cell_type": "code",
   "execution_count": 19,
   "id": "05471d47",
   "metadata": {},
   "outputs": [],
   "source": [
    "paralelo = spark_contexto.parallelize(['distribuida', 'distribuida', 'spark', 'rdd', 'spark','spark'])"
   ]
  },
  {
   "cell_type": "code",
   "execution_count": 20,
   "id": "4c2c4c40",
   "metadata": {},
   "outputs": [],
   "source": [
    "funcao_lambda = lambda x:(x,1)\n"
   ]
  },
  {
   "cell_type": "markdown",
   "id": "dae8e419",
   "metadata": {},
   "source": []
  },
  {
   "cell_type": "code",
   "execution_count": 21,
   "id": "2a2be0da",
   "metadata": {},
   "outputs": [],
   "source": [
    "from operator import add\n",
    "mapa = paralelo.map(funcao_lambda).reduceByKey(add).collect()"
   ]
  },
  {
   "cell_type": "code",
   "execution_count": 22,
   "id": "0d63a630",
   "metadata": {},
   "outputs": [
    {
     "name": "stdout",
     "output_type": "stream",
     "text": [
      "distribuida: 2\n",
      "spark: 3\n",
      "rdd: 1\n"
     ]
    }
   ],
   "source": [
    "for (w, c) in mapa:\n",
    "    print('{}: {}'.format(w, c))"
   ]
  },
  {
   "cell_type": "code",
   "execution_count": 24,
   "id": "7a6f367c",
   "metadata": {},
   "outputs": [],
   "source": [
    "spark_contexto.stop()"
   ]
  }
 ],
 "metadata": {
  "kernelspec": {
   "display_name": "venv",
   "language": "python",
   "name": "python3"
  },
  "language_info": {
   "codemirror_mode": {
    "name": "ipython",
    "version": 3
   },
   "file_extension": ".py",
   "mimetype": "text/x-python",
   "name": "python",
   "nbconvert_exporter": "python",
   "pygments_lexer": "ipython3",
   "version": "3.12.3"
  }
 },
 "nbformat": 4,
 "nbformat_minor": 5
}
