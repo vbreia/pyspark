{
 "cells": [
  {
   "cell_type": "markdown",
   "id": "0d9671dd",
   "metadata": {},
   "source": [
    "# Classificação de Dados Sintéticos com SVM, Pipeline de Pré-processamento e Árvore de Decisão"
   ]
  },
  {
   "cell_type": "code",
   "execution_count": null,
   "id": "ce1f0178",
   "metadata": {},
   "outputs": [],
   "source": [
    "import pandas as pd \n",
    "\n",
    "from sklearn.datasets import make_classification\n",
    "from sklearn.model_selection import train_test_split\n",
    "from sklearn.pipeline import make_pipeline\n",
    "from sklearn.preprocessing import StandardScaler\n",
    "from sklearn.model_selection import cross_val_score"
   ]
  },
  {
   "cell_type": "code",
   "execution_count": 2,
   "id": "5e296812",
   "metadata": {},
   "outputs": [],
   "source": [
    "x, y = make_classification(n_samples=100, random_state=1)\n",
    "x_train, x_test, y_train, y_test = train_test_split(x, y, stratify=y, random_state=1)"
   ]
  },
  {
   "cell_type": "code",
   "execution_count": 3,
   "id": "187fed56",
   "metadata": {},
   "outputs": [
    {
     "data": {
      "application/vnd.microsoft.datawrangler.viewer.v0+json": {
       "columns": [
        {
         "name": "index",
         "rawType": "int64",
         "type": "integer"
        },
        {
         "name": "0",
         "rawType": "float64",
         "type": "float"
        },
        {
         "name": "1",
         "rawType": "float64",
         "type": "float"
        },
        {
         "name": "2",
         "rawType": "float64",
         "type": "float"
        },
        {
         "name": "3",
         "rawType": "float64",
         "type": "float"
        },
        {
         "name": "4",
         "rawType": "float64",
         "type": "float"
        },
        {
         "name": "5",
         "rawType": "float64",
         "type": "float"
        },
        {
         "name": "6",
         "rawType": "float64",
         "type": "float"
        },
        {
         "name": "7",
         "rawType": "float64",
         "type": "float"
        },
        {
         "name": "8",
         "rawType": "float64",
         "type": "float"
        },
        {
         "name": "9",
         "rawType": "float64",
         "type": "float"
        },
        {
         "name": "10",
         "rawType": "float64",
         "type": "float"
        },
        {
         "name": "11",
         "rawType": "float64",
         "type": "float"
        },
        {
         "name": "12",
         "rawType": "float64",
         "type": "float"
        },
        {
         "name": "13",
         "rawType": "float64",
         "type": "float"
        },
        {
         "name": "14",
         "rawType": "float64",
         "type": "float"
        },
        {
         "name": "15",
         "rawType": "float64",
         "type": "float"
        },
        {
         "name": "16",
         "rawType": "float64",
         "type": "float"
        },
        {
         "name": "17",
         "rawType": "float64",
         "type": "float"
        },
        {
         "name": "18",
         "rawType": "float64",
         "type": "float"
        },
        {
         "name": "19",
         "rawType": "float64",
         "type": "float"
        },
        {
         "name": "target",
         "rawType": "object",
         "type": "string"
        }
       ],
       "conversionMethod": "pd.DataFrame",
       "ref": "2e4a89ec-26c0-4f60-b5ba-91a745263f6f",
       "rows": [
        [
         "0",
         "1.0079664776005783",
         "1.3002271693976186",
         "0.5280034220718364",
         "0.43499832426284113",
         "-0.1995607179962165",
         "-0.1739488348158997",
         "-0.4234782972255359",
         "-0.9484396564537968",
         "-0.654603168524978",
         "0.9104236030030839",
         "0.3923349111243075",
         "0.10405338970908944",
         "1.1253234986642537",
         "-0.7856539027746522",
         "-1.2321229394222903",
         "-1.3450100202683752",
         "-0.3145638619172873",
         "0.07432055368263171",
         "0.44838065078168743",
         "-1.2952578852810872",
         "1"
        ],
        [
         "1",
         "1.0689859716189178",
         "0.7185151967920194",
         "-1.4191487771444868",
         "0.9312556787681191",
         "-0.19054829766145195",
         "-0.7687401936378444",
         "-0.4569878575935375",
         "0.9255012147023857",
         "0.23333912626012182",
         "0.9498088152113293",
         "-0.20975293542255413",
         "0.14010988130475283",
         "1.8125278151175406",
         "-1.3191816119088027",
         "-1.395699476144611",
         "0.6409858663835063",
         "-0.31690119652834625",
         "-1.133792035393578",
         "0.9351477795910749",
         "1.2198743790306215",
         "1"
        ],
        [
         "2",
         "-0.7907999537751678",
         "0.6769797904714763",
         "0.025999994185658175",
         "1.018552474767882",
         "-0.5924612851532695",
         "-0.5921076021510432",
         "-0.45993010443458127",
         "-1.181103172771823",
         "-2.304907937770138",
         "1.2305581999547246",
         "1.2237222119601092",
         "-0.4775808546567209",
         "1.4489894041582356",
         "-1.068983302789473",
         "-1.174529340734813",
         "1.3025355364861801",
         "-1.3486964467972422",
         "-1.4851564513254543",
         "-0.05936790254849916",
         "-0.36261208757725877",
         "1"
        ],
        [
         "3",
         "0.6087836589081088",
         "1.1201882602372137",
         "-0.3695624253374333",
         "1.5392070096550627",
         "1.0334508032642373",
         "-0.5779787939636708",
         "1.700188146645526",
         "-1.0903383324548148",
         "-0.1462732746113538",
         "-1.1487042296369459",
         "-1.8814108671660597",
         "-2.1444440467284505",
         "0.23733269933959658",
         "-1.2401798500046124",
         "-1.5164933267521812",
         "0.7314025171250657",
         "-0.017454951836177974",
         "0.09574677111013467",
         "0.4972690986459772",
         "0.9544956665476875",
         "1"
        ],
        [
         "4",
         "1.5754679085723808",
         "0.8230083646013602",
         "0.040371431022839264",
         "-0.5089722778228615",
         "-0.45611755514868535",
         "-0.5425696017200331",
         "0.9039991740035269",
         "1.4236144293489872",
         "-0.9798902516618007",
         "-0.16648595488595935",
         "1.2066078980355681",
         "1.0689716222012626",
         "-0.2663268843187201",
         "-1.0663326118206502",
         "-1.2395007399697764",
         "-1.3352027230151915",
         "-0.15699367249331792",
         "-2.7909964066938464",
         "-0.2828635516348445",
         "-0.10646012155553987",
         "1"
        ]
       ],
       "shape": {
        "columns": 21,
        "rows": 5
       }
      },
      "text/html": [
       "<div>\n",
       "<style scoped>\n",
       "    .dataframe tbody tr th:only-of-type {\n",
       "        vertical-align: middle;\n",
       "    }\n",
       "\n",
       "    .dataframe tbody tr th {\n",
       "        vertical-align: top;\n",
       "    }\n",
       "\n",
       "    .dataframe thead th {\n",
       "        text-align: right;\n",
       "    }\n",
       "</style>\n",
       "<table border=\"1\" class=\"dataframe\">\n",
       "  <thead>\n",
       "    <tr style=\"text-align: right;\">\n",
       "      <th></th>\n",
       "      <th>0</th>\n",
       "      <th>1</th>\n",
       "      <th>2</th>\n",
       "      <th>3</th>\n",
       "      <th>4</th>\n",
       "      <th>5</th>\n",
       "      <th>6</th>\n",
       "      <th>7</th>\n",
       "      <th>8</th>\n",
       "      <th>9</th>\n",
       "      <th>...</th>\n",
       "      <th>11</th>\n",
       "      <th>12</th>\n",
       "      <th>13</th>\n",
       "      <th>14</th>\n",
       "      <th>15</th>\n",
       "      <th>16</th>\n",
       "      <th>17</th>\n",
       "      <th>18</th>\n",
       "      <th>19</th>\n",
       "      <th>target</th>\n",
       "    </tr>\n",
       "  </thead>\n",
       "  <tbody>\n",
       "    <tr>\n",
       "      <th>0</th>\n",
       "      <td>1.007966</td>\n",
       "      <td>1.300227</td>\n",
       "      <td>0.528003</td>\n",
       "      <td>0.434998</td>\n",
       "      <td>-0.199561</td>\n",
       "      <td>-0.173949</td>\n",
       "      <td>-0.423478</td>\n",
       "      <td>-0.948440</td>\n",
       "      <td>-0.654603</td>\n",
       "      <td>0.910424</td>\n",
       "      <td>...</td>\n",
       "      <td>0.104053</td>\n",
       "      <td>1.125323</td>\n",
       "      <td>-0.785654</td>\n",
       "      <td>-1.232123</td>\n",
       "      <td>-1.345010</td>\n",
       "      <td>-0.314564</td>\n",
       "      <td>0.074321</td>\n",
       "      <td>0.448381</td>\n",
       "      <td>-1.295258</td>\n",
       "      <td>1</td>\n",
       "    </tr>\n",
       "    <tr>\n",
       "      <th>1</th>\n",
       "      <td>1.068986</td>\n",
       "      <td>0.718515</td>\n",
       "      <td>-1.419149</td>\n",
       "      <td>0.931256</td>\n",
       "      <td>-0.190548</td>\n",
       "      <td>-0.768740</td>\n",
       "      <td>-0.456988</td>\n",
       "      <td>0.925501</td>\n",
       "      <td>0.233339</td>\n",
       "      <td>0.949809</td>\n",
       "      <td>...</td>\n",
       "      <td>0.140110</td>\n",
       "      <td>1.812528</td>\n",
       "      <td>-1.319182</td>\n",
       "      <td>-1.395699</td>\n",
       "      <td>0.640986</td>\n",
       "      <td>-0.316901</td>\n",
       "      <td>-1.133792</td>\n",
       "      <td>0.935148</td>\n",
       "      <td>1.219874</td>\n",
       "      <td>1</td>\n",
       "    </tr>\n",
       "    <tr>\n",
       "      <th>2</th>\n",
       "      <td>-0.790800</td>\n",
       "      <td>0.676980</td>\n",
       "      <td>0.026000</td>\n",
       "      <td>1.018552</td>\n",
       "      <td>-0.592461</td>\n",
       "      <td>-0.592108</td>\n",
       "      <td>-0.459930</td>\n",
       "      <td>-1.181103</td>\n",
       "      <td>-2.304908</td>\n",
       "      <td>1.230558</td>\n",
       "      <td>...</td>\n",
       "      <td>-0.477581</td>\n",
       "      <td>1.448989</td>\n",
       "      <td>-1.068983</td>\n",
       "      <td>-1.174529</td>\n",
       "      <td>1.302536</td>\n",
       "      <td>-1.348696</td>\n",
       "      <td>-1.485156</td>\n",
       "      <td>-0.059368</td>\n",
       "      <td>-0.362612</td>\n",
       "      <td>1</td>\n",
       "    </tr>\n",
       "    <tr>\n",
       "      <th>3</th>\n",
       "      <td>0.608784</td>\n",
       "      <td>1.120188</td>\n",
       "      <td>-0.369562</td>\n",
       "      <td>1.539207</td>\n",
       "      <td>1.033451</td>\n",
       "      <td>-0.577979</td>\n",
       "      <td>1.700188</td>\n",
       "      <td>-1.090338</td>\n",
       "      <td>-0.146273</td>\n",
       "      <td>-1.148704</td>\n",
       "      <td>...</td>\n",
       "      <td>-2.144444</td>\n",
       "      <td>0.237333</td>\n",
       "      <td>-1.240180</td>\n",
       "      <td>-1.516493</td>\n",
       "      <td>0.731403</td>\n",
       "      <td>-0.017455</td>\n",
       "      <td>0.095747</td>\n",
       "      <td>0.497269</td>\n",
       "      <td>0.954496</td>\n",
       "      <td>1</td>\n",
       "    </tr>\n",
       "    <tr>\n",
       "      <th>4</th>\n",
       "      <td>1.575468</td>\n",
       "      <td>0.823008</td>\n",
       "      <td>0.040371</td>\n",
       "      <td>-0.508972</td>\n",
       "      <td>-0.456118</td>\n",
       "      <td>-0.542570</td>\n",
       "      <td>0.903999</td>\n",
       "      <td>1.423614</td>\n",
       "      <td>-0.979890</td>\n",
       "      <td>-0.166486</td>\n",
       "      <td>...</td>\n",
       "      <td>1.068972</td>\n",
       "      <td>-0.266327</td>\n",
       "      <td>-1.066333</td>\n",
       "      <td>-1.239501</td>\n",
       "      <td>-1.335203</td>\n",
       "      <td>-0.156994</td>\n",
       "      <td>-2.790996</td>\n",
       "      <td>-0.282864</td>\n",
       "      <td>-0.106460</td>\n",
       "      <td>1</td>\n",
       "    </tr>\n",
       "  </tbody>\n",
       "</table>\n",
       "<p>5 rows × 21 columns</p>\n",
       "</div>"
      ],
      "text/plain": [
       "          0         1         2         3         4         5         6  \\\n",
       "0  1.007966  1.300227  0.528003  0.434998 -0.199561 -0.173949 -0.423478   \n",
       "1  1.068986  0.718515 -1.419149  0.931256 -0.190548 -0.768740 -0.456988   \n",
       "2 -0.790800  0.676980  0.026000  1.018552 -0.592461 -0.592108 -0.459930   \n",
       "3  0.608784  1.120188 -0.369562  1.539207  1.033451 -0.577979  1.700188   \n",
       "4  1.575468  0.823008  0.040371 -0.508972 -0.456118 -0.542570  0.903999   \n",
       "\n",
       "          7         8         9  ...        11        12        13        14  \\\n",
       "0 -0.948440 -0.654603  0.910424  ...  0.104053  1.125323 -0.785654 -1.232123   \n",
       "1  0.925501  0.233339  0.949809  ...  0.140110  1.812528 -1.319182 -1.395699   \n",
       "2 -1.181103 -2.304908  1.230558  ... -0.477581  1.448989 -1.068983 -1.174529   \n",
       "3 -1.090338 -0.146273 -1.148704  ... -2.144444  0.237333 -1.240180 -1.516493   \n",
       "4  1.423614 -0.979890 -0.166486  ...  1.068972 -0.266327 -1.066333 -1.239501   \n",
       "\n",
       "         15        16        17        18        19  target  \n",
       "0 -1.345010 -0.314564  0.074321  0.448381 -1.295258       1  \n",
       "1  0.640986 -0.316901 -1.133792  0.935148  1.219874       1  \n",
       "2  1.302536 -1.348696 -1.485156 -0.059368 -0.362612       1  \n",
       "3  0.731403 -0.017455  0.095747  0.497269  0.954496       1  \n",
       "4 -1.335203 -0.156994 -2.790996 -0.282864 -0.106460       1  \n",
       "\n",
       "[5 rows x 21 columns]"
      ]
     },
     "execution_count": 3,
     "metadata": {},
     "output_type": "execute_result"
    }
   ],
   "source": [
    "tdf = pd.DataFrame(x_train)\n",
    "tdf['target'] = y_train\n",
    "tdf['target'] = tdf['target'].astype('str')\n",
    "tdf.head()"
   ]
  },
  {
   "cell_type": "markdown",
   "id": "ba0d0f63",
   "metadata": {},
   "source": [
    "# Pipeline de Pré-processamento"
   ]
  },
  {
   "cell_type": "code",
   "execution_count": 4,
   "id": "ab7f1183",
   "metadata": {},
   "outputs": [
    {
     "name": "stdout",
     "output_type": "stream",
     "text": [
      "Prediction:  [1 0 1 1 1]\n",
      "Model Accuracy:  0.96\n"
     ]
    }
   ],
   "source": [
    "from sklearn.svm import SVC\n",
    "\n",
    "clf = make_pipeline(StandardScaler(), SVC(gamma='auto'))\n",
    "clf.fit(x_train, y_train)\n",
    "print(\"Prediction: \", clf.predict(x_test[:5, :]))\n",
    "print(\"Model Accuracy: \", clf.score(x_test, y_test))"
   ]
  },
  {
   "cell_type": "markdown",
   "id": "b96cc4ce",
   "metadata": {},
   "source": [
    "# Decision Tree"
   ]
  },
  {
   "cell_type": "code",
   "execution_count": 5,
   "id": "8ecf23d4",
   "metadata": {},
   "outputs": [
    {
     "name": "stdout",
     "output_type": "stream",
     "text": [
      "Prediction: [1 0 1 1 1]\n",
      "Model Accuracy: 0.96\n"
     ]
    }
   ],
   "source": [
    "from sklearn.tree import DecisionTreeClassifier\n",
    "clf = DecisionTreeClassifier(random_state=0)\n",
    "clf.fit(x_train, y_train)\n",
    "print(\"Prediction:\", clf.predict(x_test[:5,:]))\n",
    "print(\"Model Accuracy:\", clf.score(x_test, y_test))"
   ]
  },
  {
   "cell_type": "code",
   "execution_count": 6,
   "id": "96959622",
   "metadata": {},
   "outputs": [
    {
     "data": {
      "text/plain": [
       "[Text(0.4444444444444444, 0.9, 'x[1] <= -0.441\\ngini = 0.5\\nsamples = 75\\nvalue = [38, 37]'),\n",
       " Text(0.3333333333333333, 0.7, 'gini = 0.0\\nsamples = 36\\nvalue = [36, 0]'),\n",
       " Text(0.38888888888888884, 0.8, 'True  '),\n",
       " Text(0.5555555555555556, 0.7, 'x[13] <= 1.694\\ngini = 0.097\\nsamples = 39\\nvalue = [2, 37]'),\n",
       " Text(0.5, 0.8, '  False'),\n",
       " Text(0.3333333333333333, 0.5, 'x[18] <= -1.711\\ngini = 0.053\\nsamples = 37\\nvalue = [1, 36]'),\n",
       " Text(0.2222222222222222, 0.3, 'x[5] <= 0.045\\ngini = 0.5\\nsamples = 2\\nvalue = [1, 1]'),\n",
       " Text(0.1111111111111111, 0.1, 'gini = 0.0\\nsamples = 1\\nvalue = [0, 1]'),\n",
       " Text(0.3333333333333333, 0.1, 'gini = 0.0\\nsamples = 1\\nvalue = [1, 0]'),\n",
       " Text(0.4444444444444444, 0.3, 'gini = 0.0\\nsamples = 35\\nvalue = [0, 35]'),\n",
       " Text(0.7777777777777778, 0.5, 'x[14] <= 1.643\\ngini = 0.5\\nsamples = 2\\nvalue = [1, 1]'),\n",
       " Text(0.6666666666666666, 0.3, 'gini = 0.0\\nsamples = 1\\nvalue = [1, 0]'),\n",
       " Text(0.8888888888888888, 0.3, 'gini = 0.0\\nsamples = 1\\nvalue = [0, 1]')]"
      ]
     },
     "execution_count": 6,
     "metadata": {},
     "output_type": "execute_result"
    },
    {
     "data": {
      "image/png": "[encoded data removed]",
      "text/plain": [
       "<Figure size 640x480 with 1 Axes>"
      ]
     },
     "metadata": {},
     "output_type": "display_data"
    }
   ],
   "source": [
    "from sklearn import tree\n",
    "tree.plot_tree(clf)"
   ]
  }
 ],
 "metadata": {
  "kernelspec": {
   "display_name": "venv",
   "language": "python",
   "name": "python3"
  },
  "language_info": {
   "codemirror_mode": {
    "name": "ipython",
    "version": 3
   },
   "file_extension": ".py",
   "mimetype": "text/x-python",
   "name": "python",
   "nbconvert_exporter": "python",
   "pygments_lexer": "ipython3",
   "version": "3.12.3"
  }
 },
 "nbformat": 4,
 "nbformat_minor": 5
}
