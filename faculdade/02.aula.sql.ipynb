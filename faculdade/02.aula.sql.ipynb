{
 "cells": [
  {
   "cell_type": "code",
   "execution_count": 1,
   "id": "b1cc492e",
   "metadata": {},
   "outputs": [
    {
     "name": "stderr",
     "output_type": "stream",
     "text": [
      "your 131072x1 screen size is bogus. expect trouble\n",
      "25/05/08 16:59:18 WARN Utils: Your hostname, Breia resolves to a loopback address: 127.0.1.1; using 10.255.255.254 instead (on interface lo)\n",
      "25/05/08 16:59:18 WARN Utils: Set SPARK_LOCAL_IP if you need to bind to another address\n",
      "Setting default log level to \"WARN\".\n",
      "To adjust logging level use sc.setLogLevel(newLevel). For SparkR, use setLogLevel(newLevel).\n",
      "25/05/08 16:59:19 WARN NativeCodeLoader: Unable to load native-hadoop library for your platform... using builtin-java classes where applicable\n"
     ]
    },
    {
     "name": "stdout",
     "output_type": "stream",
     "text": [
      "<SparkContext master=local[*] appName=pyspark-shell>\n",
      "3.5.5\n"
     ]
    }
   ],
   "source": [
    "from pyspark import SparkContext\n",
    "spark_contexto = SparkContext() \n",
    "print(spark_contexto)           \n",
    "print(spark_contexto.version)"
   ]
  },
  {
   "cell_type": "code",
   "execution_count": 2,
   "id": "d0d9096c",
   "metadata": {},
   "outputs": [
    {
     "name": "stdout",
     "output_type": "stream",
     "text": [
      "<pyspark.sql.session.SparkSession object at 0x7efd6d5f4440>\n"
     ]
    }
   ],
   "source": [
    "from pyspark.sql import SparkSession \n",
    "spark = SparkSession.builder.getOrCreate() # Create my_spark\n",
    "print(spark) # Print my_spark"
   ]
  },
  {
   "cell_type": "code",
   "execution_count": 3,
   "id": "36483029",
   "metadata": {},
   "outputs": [],
   "source": [
    "dataset = spark.read.csv(\"./content/sample_data/california_housing.csv\", header=True, inferSchema=True) # Read the CSV file"
   ]
  },
  {
   "cell_type": "code",
   "execution_count": 4,
   "id": "dc0ee2c7",
   "metadata": {},
   "outputs": [
    {
     "data": {
      "text/plain": [
       "Row(longitude=-122.23, latitude=37.88, housing_median_age=41, total_rooms=880, total_bedrooms=129, population=322, households=126, median_income=8.3252, ocean_proximity='NEAR BAY', median_house_value=452600)"
      ]
     },
     "execution_count": 4,
     "metadata": {},
     "output_type": "execute_result"
    }
   ],
   "source": [
    "dataset.head()"
   ]
  },
  {
   "cell_type": "code",
   "execution_count": 5,
   "id": "2a739729",
   "metadata": {},
   "outputs": [
    {
     "data": {
      "text/plain": [
       "20640"
      ]
     },
     "execution_count": 5,
     "metadata": {},
     "output_type": "execute_result"
    }
   ],
   "source": [
    "dataset.count()"
   ]
  },
  {
   "cell_type": "code",
   "execution_count": 6,
   "id": "c7310911",
   "metadata": {},
   "outputs": [
    {
     "name": "stdout",
     "output_type": "stream",
     "text": [
      "[Table(name='tabela_temporaria', catalog=None, namespace=[], description=None, tableType='TEMPORARY', isTemporary=True)]\n"
     ]
    }
   ],
   "source": [
    "dataset.createOrReplaceTempView('tabela_temporaria')\n",
    "print(spark.catalog.listTables())"
   ]
  },
  {
   "cell_type": "code",
   "execution_count": 7,
   "id": "5bee5068",
   "metadata": {},
   "outputs": [
    {
     "name": "stdout",
     "output_type": "stream",
     "text": [
      "+---------+--------+\n",
      "|longitude|latitude|\n",
      "+---------+--------+\n",
      "|  -122.23|   37.88|\n",
      "|  -122.22|   37.86|\n",
      "|  -122.24|   37.85|\n",
      "+---------+--------+\n",
      "\n"
     ]
    }
   ],
   "source": [
    "query = 'FROM tabela_temporaria SELECT longitude, latitude LIMIT 3'  \n",
    "saida = spark.sql(query)  \n",
    "saida.show() "
   ]
  },
  {
   "cell_type": "code",
   "execution_count": 8,
   "id": "404d24ee",
   "metadata": {},
   "outputs": [
    {
     "name": "stdout",
     "output_type": "stream",
     "text": [
      "A quantidade máxima de quartos é: 0    39320\n",
      "Name: maximo_quartos, dtype: int32\n"
     ]
    }
   ],
   "source": [
    "query1 = 'SELECT MAX(total_rooms) as maximo_quartos FROM tabela_temporaria'\n",
    "q_maximo_quartos = spark.sql(query1)\n",
    "pd_maximo_quartos = q_maximo_quartos.toPandas()\n",
    "print('A quantidade máxima de quartos é: {}'.format(pd_maximo_quartos['maximo_quartos']))\n",
    "qtd_maximo_quartos = int(pd_maximo_quartos.loc[0,'maximo_quartos'])"
   ]
  },
  {
   "cell_type": "code",
   "execution_count": 9,
   "id": "be26a539",
   "metadata": {},
   "outputs": [
    {
     "name": "stdout",
     "output_type": "stream",
     "text": [
      "   longitude  latitude\n",
      "0    -121.44     38.43\n"
     ]
    }
   ],
   "source": [
    "query2 = 'SELECT longitude, latitude FROM tabela_temporaria WHERE total_rooms = '+str(qtd_maximo_quartos)\n",
    "localizacao_maximo_quartos = spark.sql(query2)\n",
    "pd_localizacao_maximo_quartos = localizacao_maximo_quartos.toPandas()\n",
    "print(pd_localizacao_maximo_quartos.head())"
   ]
  },
  {
   "cell_type": "code",
   "execution_count": 10,
   "id": "beb35076",
   "metadata": {},
   "outputs": [],
   "source": [
    "spark.stop()"
   ]
  }
 ],
 "metadata": {
  "kernelspec": {
   "display_name": "venv",
   "language": "python",
   "name": "python3"
  },
  "language_info": {
   "codemirror_mode": {
    "name": "ipython",
    "version": 3
   },
   "file_extension": ".py",
   "mimetype": "text/x-python",
   "name": "python",
   "nbconvert_exporter": "python",
   "pygments_lexer": "ipython3",
   "version": "3.12.3"
  }
 },
 "nbformat": 4,
 "nbformat_minor": 5
}
