{
 "cells": [
  {
   "cell_type": "markdown",
   "metadata": {},
   "source": [
    "## Manipulating fake sales data from a bookstore\n",
    "\n",
    "##### In this repository we will do a slightly more complex exercise. We will create a fake datalake from a bookstore. "
   ]
  },
  {
   "cell_type": "code",
   "execution_count": 1,
   "metadata": {},
   "outputs": [],
   "source": [
    "from pyspark.sql import SparkSession\n",
    "from pyspark.sql import functions as F "
   ]
  },
  {
   "cell_type": "code",
   "execution_count": 2,
   "metadata": {},
   "outputs": [
    {
     "name": "stderr",
     "output_type": "stream",
     "text": [
      "your 131072x1 screen size is bogus. expect trouble\n",
      "24/05/02 20:34:16 WARN Utils: Your hostname, DESKTOP-VMHJUON resolves to a loopback address: 127.0.1.1; using 192.168.92.85 instead (on interface eth0)\n",
      "24/05/02 20:34:16 WARN Utils: Set SPARK_LOCAL_IP if you need to bind to another address\n",
      "Setting default log level to \"WARN\".\n",
      "To adjust logging level use sc.setLogLevel(newLevel). For SparkR, use setLogLevel(newLevel).\n",
      "24/05/02 20:34:19 WARN NativeCodeLoader: Unable to load native-hadoop library for your platform... using builtin-java classes where applicable\n"
     ]
    }
   ],
   "source": [
    "spark = (\n",
    "    SparkSession\n",
    "    .builder\n",
    "    .master(\"local[*]\")\n",
    "    .appName(\"Spark_Dataframe\")\n",
    "    .getOrCreate()\n",
    ")"
   ]
  },
  {
   "cell_type": "code",
   "execution_count": 3,
   "metadata": {},
   "outputs": [
    {
     "name": "stderr",
     "output_type": "stream",
     "text": [
      "                                                                                \r"
     ]
    }
   ],
   "source": [
    "#create a clientes dataframe\n",
    "clientes_df = (\n",
    "    spark\n",
    "    .read\n",
    "    .option('delimiter', ',')\n",
    "    .option('header', True)\n",
    "    .option('inferSchema', True)\n",
    "    .option('encoding', 'ISO-8859-1')\n",
    "    .csv('lake/clientes.csv')\n",
    ")"
   ]
  },
  {
   "cell_type": "code",
   "execution_count": 4,
   "metadata": {},
   "outputs": [],
   "source": [
    "#create a vendedores dataframe\n",
    "vendedores_df = (\n",
    "    spark\n",
    "    .read\n",
    "    .option('delimiter', ',')\n",
    "    .option('header', True)\n",
    "    .option('inferSchema', True)\n",
    "    .option('encoding', 'ISO-8859-1')\n",
    "    .csv('lake/vendedores.csv')\n",
    ")"
   ]
  },
  {
   "cell_type": "code",
   "execution_count": 5,
   "metadata": {},
   "outputs": [],
   "source": [
    "#create a transacoes dataframe\n",
    "transacoes_df = (\n",
    "    spark\n",
    "    .read\n",
    "    .option('delimiter', ',')\n",
    "    .option('header', True)\n",
    "    .option('inferSchema', True)\n",
    "    .option('encoding', 'ISO-8859-1')\n",
    "    .csv('lake/transacoes.csv')\n",
    ")"
   ]
  },
  {
   "cell_type": "code",
   "execution_count": 6,
   "metadata": {},
   "outputs": [],
   "source": [
    "#create a livros dataframe\n",
    "livros_df = (\n",
    "    spark\n",
    "    .read\n",
    "    .option('delimiter', ',')\n",
    "    .option('header', True)\n",
    "    .option('inferSchema', True)\n",
    "    .option('encoding', 'ISO-8859-1')\n",
    "    .csv('lake/livros.csv')\n",
    ")"
   ]
  },
  {
   "cell_type": "code",
   "execution_count": 7,
   "metadata": {},
   "outputs": [],
   "source": [
    "#create a view to use in sql queries\n",
    "clientes_df.createOrReplaceTempView('cliente')\n",
    "vendedores_df.createOrReplaceTempView('vendedor')\n",
    "transacoes_df.createOrReplaceTempView('transacoes')\n",
    "livros_df.createOrReplaceTempView('livro')\n",
    "\n"
   ]
  },
  {
   "cell_type": "code",
   "execution_count": 8,
   "metadata": {},
   "outputs": [
    {
     "name": "stdout",
     "output_type": "stream",
     "text": [
      "+----------+----------+\n",
      "|Quantidade|    tabela|\n",
      "+----------+----------+\n",
      "|       220|   cliente|\n",
      "|        10|  vendedor|\n",
      "|       714|Transacoes|\n",
      "|       120|     livro|\n",
      "+----------+----------+\n",
      "\n"
     ]
    }
   ],
   "source": [
    "# show quantity of rows in each table \n",
    "spark.sql('''\n",
    "          SELECT count(*) as Quantidade, \"cliente\" as tabela from cliente c\n",
    "            union\n",
    "            SELECT count(*) as Quantidade, \"vendedor\" as tabela from vendedor v \n",
    "            union\n",
    "            SELECT count(*) as Quantidade, \"Transacoes\" as tabela from transacoes t\n",
    "            union\n",
    "            SELECT count(*) as Quantidade, \"livro\" as tabela from livro l;  \n",
    "          ''').show()"
   ]
  },
  {
   "cell_type": "markdown",
   "metadata": {},
   "source": [
    "#\n"
   ]
  }
 ],
 "metadata": {
  "kernelspec": {
   "display_name": ".venv",
   "language": "python",
   "name": "python3"
  },
  "language_info": {
   "codemirror_mode": {
    "name": "ipython",
    "version": 3
   },
   "file_extension": ".py",
   "mimetype": "text/x-python",
   "name": "python",
   "nbconvert_exporter": "python",
   "pygments_lexer": "ipython3",
   "version": "3.10.12"
  }
 },
 "nbformat": 4,
 "nbformat_minor": 2
}
