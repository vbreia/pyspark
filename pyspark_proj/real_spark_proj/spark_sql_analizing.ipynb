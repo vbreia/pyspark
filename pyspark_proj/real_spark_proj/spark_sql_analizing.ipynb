{
 "cells": [
  {
   "cell_type": "markdown",
   "metadata": {},
   "source": [
    "## Manipulating fake sales data from a bookstore\n",
    "\n",
    "##### In this repository we will do a slightly more complex exercise. We will create a fake datalake from a bookstore. "
   ]
  },
  {
   "cell_type": "code",
   "execution_count": 3,
   "metadata": {},
   "outputs": [],
   "source": [
    "from pyspark.sql import SparkSession\n",
    "from pyspark.sql import functions as F "
   ]
  },
  {
   "cell_type": "code",
   "execution_count": 4,
   "metadata": {},
   "outputs": [
    {
     "name": "stderr",
     "output_type": "stream",
     "text": [
      "your 131072x1 screen size is bogus. expect trouble\n",
      "24/05/02 19:39:44 WARN Utils: Your hostname, DESKTOP-VMHJUON resolves to a loopback address: 127.0.1.1; using 192.168.92.85 instead (on interface eth0)\n",
      "24/05/02 19:39:44 WARN Utils: Set SPARK_LOCAL_IP if you need to bind to another address\n",
      "Setting default log level to \"WARN\".\n",
      "To adjust logging level use sc.setLogLevel(newLevel). For SparkR, use setLogLevel(newLevel).\n",
      "24/05/02 19:39:47 WARN NativeCodeLoader: Unable to load native-hadoop library for your platform... using builtin-java classes where applicable\n"
     ]
    }
   ],
   "source": [
    "spark = (\n",
    "    SparkSession\n",
    "    .builder\n",
    "    .master(\"local[*]\")\n",
    "    .appName(\"Spark_Dataframe\")\n",
    "    .getOrCreate()\n",
    ")"
   ]
  },
  {
   "cell_type": "code",
   "execution_count": 5,
   "metadata": {},
   "outputs": [
    {
     "name": "stderr",
     "output_type": "stream",
     "text": [
      "                                                                                \r"
     ]
    }
   ],
   "source": [
    "#create a clientes dataframe\n",
    "clientes_df = (\n",
    "    spark\n",
    "    .read\n",
    "    .option('delimiter', ';')\n",
    "    .option('header', True)\n",
    "    .option('inferSchema', True)\n",
    "    .option('encoding', 'ISO-8859-1')\n",
    "    .csv('lake/clientes.csv')\n",
    ")"
   ]
  },
  {
   "cell_type": "code",
   "execution_count": null,
   "metadata": {},
   "outputs": [],
   "source": [
    "#create a vendedores dataframe\n",
    "vendedores_df = (\n",
    "    spark\n",
    "    .read\n",
    "    .option('delimiter', ';')\n",
    "    .option('header', True)\n",
    "    .option('inferSchema', True)\n",
    "    .option('encoding', 'ISO-8859-1')\n",
    "    .csv('lake/vendedores.csv')\n",
    ")"
   ]
  },
  {
   "cell_type": "code",
   "execution_count": null,
   "metadata": {},
   "outputs": [],
   "source": [
    "#create a clientes dataframe\n",
    "transacoes_df = (\n",
    "    spark\n",
    "    .read\n",
    "    .option('delimiter', ';')\n",
    "    .option('header', True)\n",
    "    .option('inferSchema', True)\n",
    "    .option('encoding', 'ISO-8859-1')\n",
    "    .csv('lake/transacoes.csv')\n",
    ")"
   ]
  },
  {
   "cell_type": "code",
   "execution_count": null,
   "metadata": {},
   "outputs": [],
   "source": [
    "#create a clientes dataframe\n",
    "livros_df = (\n",
    "    spark\n",
    "    .read\n",
    "    .option('delimiter', ';')\n",
    "    .option('header', True)\n",
    "    .option('inferSchema', True)\n",
    "    .option('encoding', 'ISO-8859-1')\n",
    "    .csv('lake/livros.csv')\n",
    ")"
   ]
  },
  {
   "cell_type": "code",
   "execution_count": 29,
   "metadata": {},
   "outputs": [
    {
     "name": "stdout",
     "output_type": "stream",
     "text": [
      "root\n",
      " |-- Regiao - Sigla: string (nullable = true)\n",
      " |-- Estado - Sigla: string (nullable = true)\n",
      " |-- Municipio: string (nullable = true)\n",
      " |-- Revenda: string (nullable = true)\n",
      " |-- CNPJ da Revenda: string (nullable = true)\n",
      " |-- Nome da Rua: string (nullable = true)\n",
      " |-- Numero Rua: string (nullable = true)\n",
      " |-- Complemento: string (nullable = true)\n",
      " |-- Bairro: string (nullable = true)\n",
      " |-- Cep: string (nullable = true)\n",
      " |-- Produto: string (nullable = true)\n",
      " |-- Data da Coleta: string (nullable = true)\n",
      " |-- Valor de Venda: string (nullable = true)\n",
      " |-- Valor de Compra: string (nullable = true)\n",
      " |-- Unidade de Medida: string (nullable = true)\n",
      " |-- Bandeira: string (nullable = true)\n",
      "\n"
     ]
    }
   ],
   "source": [
    "#show the schema of the dataframe\n",
    "df.printSchema()"
   ]
  },
  {
   "cell_type": "markdown",
   "metadata": {},
   "source": [
    "### Mandling data formats\n",
    "\n",
    "Note in the schema that the column` 'Valor de Venda'` and `'Valor de Compra'`  is a string and follows the Brazilian pricing standard (BRL).\n",
    "\n",
    "Then we will use the `regex_replace` method to replace the commas (, ) with points(.).\n",
    "And the `cast` method to change from string to float."
   ]
  },
  {
   "cell_type": "code",
   "execution_count": 30,
   "metadata": {},
   "outputs": [
    {
     "name": "stdout",
     "output_type": "stream",
     "text": [
      "root\n",
      " |-- Regiao - Sigla: string (nullable = true)\n",
      " |-- Estado - Sigla: string (nullable = true)\n",
      " |-- Municipio: string (nullable = true)\n",
      " |-- Revenda: string (nullable = true)\n",
      " |-- CNPJ da Revenda: string (nullable = true)\n",
      " |-- Nome da Rua: string (nullable = true)\n",
      " |-- Numero Rua: string (nullable = true)\n",
      " |-- Complemento: string (nullable = true)\n",
      " |-- Bairro: string (nullable = true)\n",
      " |-- Cep: string (nullable = true)\n",
      " |-- Produto: string (nullable = true)\n",
      " |-- Data da Coleta: string (nullable = true)\n",
      " |-- Valor de Venda: float (nullable = true)\n",
      " |-- Valor de Compra: float (nullable = true)\n",
      " |-- Unidade de Medida: string (nullable = true)\n",
      " |-- Bandeira: string (nullable = true)\n",
      "\n"
     ]
    }
   ],
   "source": [
    "# replace the ',' to '.' and cast the column 'Valor de Venda' to float\n",
    "df = df.withColumn('Valor de Venda',  F.regexp_replace('Valor de Venda', ',', '.').cast('float'))\n",
    "df = df.withColumn('Valor de Compra',  F.regexp_replace('Valor de Compra', ',', '.').cast('float'))\n",
    "#show the schema of the dataframe for verificate the changes\n",
    "df.printSchema()"
   ]
  },
  {
   "cell_type": "markdown",
   "metadata": {},
   "source": [
    "`|-- Valor de Venda: float (nullable = true)`\n",
    "\n",
    "`|-- Valor de Compra: float (nullable = true)`"
   ]
  },
  {
   "cell_type": "code",
   "execution_count": 31,
   "metadata": {},
   "outputs": [],
   "source": [
    "#create a view to use in sql queries\n",
    "df.createOrReplaceTempView('combustiveis')\n"
   ]
  },
  {
   "cell_type": "code",
   "execution_count": 32,
   "metadata": {},
   "outputs": [
    {
     "name": "stdout",
     "output_type": "stream",
     "text": [
      "+--------------+------------------+--------------+---------------+-----------------+\n",
      "|Estado - Sigla|           Produto|Valor de Venda|Valor de Compra|Unidade de Medida|\n",
      "+--------------+------------------+--------------+---------------+-----------------+\n",
      "|            AL|          GASOLINA|          6.08|           NULL|       R$ / litro|\n",
      "|            AL|GASOLINA ADITIVADA|          6.08|           NULL|       R$ / litro|\n",
      "|            AL|            ETANOL|          4.78|           NULL|       R$ / litro|\n",
      "|            AL|          GASOLINA|          5.79|           NULL|       R$ / litro|\n",
      "|            AL|            ETANOL|          4.29|           NULL|       R$ / litro|\n",
      "+--------------+------------------+--------------+---------------+-----------------+\n",
      "only showing top 5 rows\n",
      "\n"
     ]
    }
   ],
   "source": [
    "# show the first 5 rows of the dataframe with the sql query\n",
    "spark.sql('''\n",
    "          SELECT `Estado - Sigla`, `Produto`, `Valor de Venda`, `Valor de Compra`, `Unidade de Medida` FROM combustiveis\n",
    "          ''').show(5)"
   ]
  },
  {
   "cell_type": "code",
   "execution_count": 33,
   "metadata": {},
   "outputs": [
    {
     "name": "stdout",
     "output_type": "stream",
     "text": [
      "+--------------+--------------+---------+-------+---------------+-----------+----------+-----------+------+---+-------+--------------+--------------+---------------+-----------------+--------+\n",
      "|Regiao - Sigla|Estado - Sigla|Municipio|Revenda|CNPJ da Revenda|Nome da Rua|Numero Rua|Complemento|Bairro|Cep|Produto|Data da Coleta|Valor de Venda|Valor de Compra|Unidade de Medida|Bandeira|\n",
      "+--------------+--------------+---------+-------+---------------+-----------+----------+-----------+------+---+-------+--------------+--------------+---------------+-----------------+--------+\n",
      "+--------------+--------------+---------+-------+---------------+-----------+----------+-----------+------+---+-------+--------------+--------------+---------------+-----------------+--------+\n",
      "\n"
     ]
    }
   ],
   "source": [
    "# show the rows where the column 'Valor de Compra' is not null\n",
    "spark.sql('''\n",
    "          SELECT * FROM combustiveis WHERE `Valor de Compra` IS NOT NULL\n",
    "          ''').show()\n",
    "# as all dataframe values ​​'Valor de Compra' are null, we will not work with it"
   ]
  },
  {
   "cell_type": "code",
   "execution_count": 34,
   "metadata": {},
   "outputs": [],
   "source": [
    "#create a new dataframe with the sql query\n",
    "view_precos = spark.sql(\n",
    "    '''\n",
    " SELECT\n",
    "     `Estado - Sigla`,\n",
    "     `Produto`,\n",
    "     `Valor de Venda`,\n",
    "     `Unidade de Medida` \n",
    "     FROM combustiveis\n",
    "    '''\n",
    ")\n"
   ]
  },
  {
   "cell_type": "code",
   "execution_count": 35,
   "metadata": {},
   "outputs": [
    {
     "name": "stdout",
     "output_type": "stream",
     "text": [
      "+--------------+------------------+--------------+-----------------+\n",
      "|Estado - Sigla|           Produto|Valor de Venda|Unidade de Medida|\n",
      "+--------------+------------------+--------------+-----------------+\n",
      "|            AL|          GASOLINA|          6.08|       R$ / litro|\n",
      "|            AL|GASOLINA ADITIVADA|          6.08|       R$ / litro|\n",
      "|            AL|            ETANOL|          4.78|       R$ / litro|\n",
      "|            AL|          GASOLINA|          5.79|       R$ / litro|\n",
      "|            AL|            ETANOL|          4.29|       R$ / litro|\n",
      "|            AL|          GASOLINA|          5.89|       R$ / litro|\n",
      "|            AL|GASOLINA ADITIVADA|          6.09|       R$ / litro|\n",
      "|            AL|            ETANOL|          4.49|       R$ / litro|\n",
      "|            AL|          GASOLINA|          5.89|       R$ / litro|\n",
      "|            AL|GASOLINA ADITIVADA|          6.09|       R$ / litro|\n",
      "+--------------+------------------+--------------+-----------------+\n",
      "only showing top 10 rows\n",
      "\n"
     ]
    }
   ],
   "source": [
    "view_precos.show(10)"
   ]
  },
  {
   "cell_type": "markdown",
   "metadata": {},
   "source": [
    "#### We will carry out a price analysis on the dataframe `'Valor de Venda'` that has had its metadata previously  treaties."
   ]
  },
  {
   "cell_type": "code",
   "execution_count": 36,
   "metadata": {},
   "outputs": [],
   "source": [
    "#create a view to use in sql queries\n",
    "df.createOrReplaceTempView('view_precos')"
   ]
  },
  {
   "cell_type": "markdown",
   "metadata": {},
   "source": [
    "#### Let's create a column `'diferenca'` where it will receive the subtraction of the highest and lowest sales value. And we will sort it in descending order.\n"
   ]
  },
  {
   "cell_type": "code",
   "execution_count": 37,
   "metadata": {},
   "outputs": [],
   "source": [
    "df_diferenca_precos = spark.sql(\n",
    "    \"\"\"\n",
    "     SELECT\n",
    "     `Estado - Sigla`,\n",
    "     `Produto`,\n",
    "     `Unidade de Medida` ,\n",
    "     MIN(`Valor de Venda`) as `Menor Preço`,\n",
    "     MAX(`Valor de Venda`) as `Maior Preço`,\n",
    "     MAX(`Valor de Venda`) - MIN(`Valor de Venda`) as diferenca\n",
    "     FROM view_precos\n",
    "     GROUP BY ALL\n",
    "     ORDER BY  diferenca DESC\n",
    "    \"\"\"\n",
    ")"
   ]
  },
  {
   "cell_type": "code",
   "execution_count": 38,
   "metadata": {},
   "outputs": [
    {
     "name": "stdout",
     "output_type": "stream",
     "text": [
      "+--------------+------------------+-----------------+-----------+-----------+---------+\n",
      "|Estado - Sigla|           Produto|Unidade de Medida|Menor Preço|Maior Preço|diferenca|\n",
      "+--------------+------------------+-----------------+-----------+-----------+---------+\n",
      "|            SP|GASOLINA ADITIVADA|       R$ / litro|       4.79|       8.69|3.8999996|\n",
      "|            SP|            ETANOL|       R$ / litro|       2.78|       6.19|     3.41|\n",
      "|            SP|          GASOLINA|       R$ / litro|       4.59|       7.59|      3.0|\n",
      "|            PA|            ETANOL|       R$ / litro|       3.85|        6.6|     2.75|\n",
      "|            RS|            ETANOL|       R$ / litro|       3.88|       6.29|2.4099998|\n",
      "+--------------+------------------+-----------------+-----------+-----------+---------+\n",
      "only showing top 5 rows\n",
      "\n"
     ]
    }
   ],
   "source": [
    "df_diferenca_precos.show(5)"
   ]
  }
 ],
 "metadata": {
  "kernelspec": {
   "display_name": ".venv",
   "language": "python",
   "name": "python3"
  },
  "language_info": {
   "codemirror_mode": {
    "name": "ipython",
    "version": 3
   },
   "file_extension": ".py",
   "mimetype": "text/x-python",
   "name": "python",
   "nbconvert_exporter": "python",
   "pygments_lexer": "ipython3",
   "version": "3.10.12"
  }
 },
 "nbformat": 4,
 "nbformat_minor": 2
}
