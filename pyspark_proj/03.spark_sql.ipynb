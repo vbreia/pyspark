{
 "cells": [
  {
   "cell_type": "markdown",
   "metadata": {},
   "source": [
    "## Analyzing a csv dataset\n",
    "\n",
    "##### This dataset was imported from the Federal Government's Open Data Portal (Brazil).\n",
    "In this dataset we have data on the purchase and sale prices of ethanol and gasoline during October 2022 \n",
    "- [link of portal](https://dados.gov.br/dados/conjuntos-dados/serie-historica-de-precos-de-combustiveis-e-de-glp?source=post_page-----4185005771e5--------------------------------)"
   ]
  },
  {
   "cell_type": "code",
   "execution_count": 1,
   "metadata": {},
   "outputs": [],
   "source": [
    "from pyspark.sql import SparkSession\n",
    "from pyspark.sql import functions as F "
   ]
  },
  {
   "cell_type": "code",
   "execution_count": 2,
   "metadata": {},
   "outputs": [
    {
     "name": "stderr",
     "output_type": "stream",
     "text": [
      "your 131072x1 screen size is bogus. expect trouble\n",
      "24/05/01 15:03:06 WARN Utils: Your hostname, DESKTOP-VMHJUON resolves to a loopback address: 127.0.1.1; using 192.168.92.85 instead (on interface eth0)\n",
      "24/05/01 15:03:06 WARN Utils: Set SPARK_LOCAL_IP if you need to bind to another address\n",
      "Setting default log level to \"WARN\".\n",
      "To adjust logging level use sc.setLogLevel(newLevel). For SparkR, use setLogLevel(newLevel).\n",
      "24/05/01 15:03:09 WARN NativeCodeLoader: Unable to load native-hadoop library for your platform... using builtin-java classes where applicable\n"
     ]
    }
   ],
   "source": [
    "spark = (\n",
    "    SparkSession\n",
    "    .builder\n",
    "    .master(\"local[*]\")\n",
    "    .appName(\"Spark_Dataframe\")\n",
    "    .getOrCreate()\n",
    ")"
   ]
  },
  {
   "cell_type": "code",
   "execution_count": 3,
   "metadata": {},
   "outputs": [
    {
     "name": "stderr",
     "output_type": "stream",
     "text": [
      "                                                                                \r"
     ]
    }
   ],
   "source": [
    "#create a dataframe from a csv file\n",
    "df = (\n",
    "    spark\n",
    "    .read\n",
    "    .option('delimiter', ';')\n",
    "    .option('header', True)\n",
    "    .option('inferSchema', True)\n",
    "    .option('encoding', 'ISO-8859-1')\n",
    "    .csv('dataset/precos-gasolina-etanol-10.csv')\n",
    ")"
   ]
  },
  {
   "cell_type": "code",
   "execution_count": 4,
   "metadata": {},
   "outputs": [
    {
     "name": "stdout",
     "output_type": "stream",
     "text": [
      "root\n",
      " |-- Regiao - Sigla: string (nullable = true)\n",
      " |-- Estado - Sigla: string (nullable = true)\n",
      " |-- Municipio: string (nullable = true)\n",
      " |-- Revenda: string (nullable = true)\n",
      " |-- CNPJ da Revenda: string (nullable = true)\n",
      " |-- Nome da Rua: string (nullable = true)\n",
      " |-- Numero Rua: string (nullable = true)\n",
      " |-- Complemento: string (nullable = true)\n",
      " |-- Bairro: string (nullable = true)\n",
      " |-- Cep: string (nullable = true)\n",
      " |-- Produto: string (nullable = true)\n",
      " |-- Data da Coleta: string (nullable = true)\n",
      " |-- Valor de Venda: string (nullable = true)\n",
      " |-- Valor de Compra: string (nullable = true)\n",
      " |-- Unidade de Medida: string (nullable = true)\n",
      " |-- Bandeira: string (nullable = true)\n",
      "\n"
     ]
    }
   ],
   "source": [
    "#show the schema of the dataframe\n",
    "df.printSchema()"
   ]
  },
  {
   "cell_type": "code",
   "execution_count": 6,
   "metadata": {},
   "outputs": [],
   "source": [
    "#create a view to use in sql queries\n",
    "df.createOrReplaceTempView('combustiveis')"
   ]
  },
  {
   "cell_type": "code",
   "execution_count": 9,
   "metadata": {},
   "outputs": [
    {
     "name": "stdout",
     "output_type": "stream",
     "text": [
      "+--------------+--------------+---------+--------------------+-------------------+--------------------+----------+-----------+--------+---------+------------------+--------------+--------------+---------------+-----------------+--------+\n",
      "|Regiao - Sigla|Estado - Sigla|Municipio|             Revenda|    CNPJ da Revenda|         Nome da Rua|Numero Rua|Complemento|  Bairro|      Cep|           Produto|Data da Coleta|Valor de Venda|Valor de Compra|Unidade de Medida|Bandeira|\n",
      "+--------------+--------------+---------+--------------------+-------------------+--------------------+----------+-----------+--------+---------+------------------+--------------+--------------+---------------+-----------------+--------+\n",
      "|            NE|            AL|ARAPIRACA|COMERCIAL DE COMB...| 02.817.655/0001-82|RODOVIA AL 220 - ...|       S/N|       NULL|PLANALTO|57308-000|          GASOLINA|    02/10/2023|          6,08|           NULL|       R$ / litro|   VIBRA|\n",
      "|            NE|            AL|ARAPIRACA|COMERCIAL DE COMB...| 02.817.655/0001-82|RODOVIA AL 220 - ...|       S/N|       NULL|PLANALTO|57308-000|GASOLINA ADITIVADA|    02/10/2023|          6,08|           NULL|       R$ / litro|   VIBRA|\n",
      "|            NE|            AL|ARAPIRACA|COMERCIAL DE COMB...| 02.817.655/0001-82|RODOVIA AL 220 - ...|       S/N|       NULL|PLANALTO|57308-000|            ETANOL|    02/10/2023|          4,78|           NULL|       R$ / litro|   VIBRA|\n",
      "|            NE|            AL|ARAPIRACA|AUTO POSTO SAO FR...| 12.706.529/0001-04|   RUA SAO FRANCISCO|       274|       NULL|  CENTRO|57300-080|          GASOLINA|    02/10/2023|          5,79|           NULL|       R$ / litro|   VIBRA|\n",
      "|            NE|            AL|ARAPIRACA|AUTO POSTO SAO FR...| 12.706.529/0001-04|   RUA SAO FRANCISCO|       274|       NULL|  CENTRO|57300-080|            ETANOL|    02/10/2023|          4,29|           NULL|       R$ / litro|   VIBRA|\n",
      "+--------------+--------------+---------+--------------------+-------------------+--------------------+----------+-----------+--------+---------+------------------+--------------+--------------+---------------+-----------------+--------+\n",
      "only showing top 5 rows\n",
      "\n"
     ]
    }
   ],
   "source": [
    "# show the first 5 rows of the dataframe with the sql query\n",
    "spark.sql('SELECT * FROM combustiveis').show(5)"
   ]
  }
 ],
 "metadata": {
  "kernelspec": {
   "display_name": ".venv",
   "language": "python",
   "name": "python3"
  },
  "language_info": {
   "codemirror_mode": {
    "name": "ipython",
    "version": 3
   },
   "file_extension": ".py",
   "mimetype": "text/x-python",
   "name": "python",
   "nbconvert_exporter": "python",
   "pygments_lexer": "ipython3",
   "version": "3.10.12"
  }
 },
 "nbformat": 4,
 "nbformat_minor": 2
}
